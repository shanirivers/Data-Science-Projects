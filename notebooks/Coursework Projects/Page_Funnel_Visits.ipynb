{
  "cells": [
    {
      "cell_type": "code",
      "execution_count": 2,
      "metadata": {
        "id": "TAQlfaYAXMPb"
      },
      "outputs": [],
      "source": [
        "import pandas as pd"
      ]
    },
    {
      "cell_type": "markdown",
      "metadata": {
        "id": "mGeJ686XXMPg"
      },
      "source": [
        "Import all the files"
      ]
    },
    {
      "cell_type": "code",
      "execution_count": 3,
      "metadata": {
        "id": "2-QyIAy1XMPh"
      },
      "outputs": [],
      "source": [
        "visits = pd.read_csv('visits.csv',\n",
        "                     parse_dates=[1])\n",
        "cart = pd.read_csv('cart.csv',\n",
        "                   parse_dates=[1])\n",
        "\n",
        "checkout = pd.read_csv('checkout.csv',\n",
        "                       parse_dates=[1])\n",
        "purchase = pd.read_csv('purchase.csv',\n",
        "                       parse_dates=[1])"
      ]
    },
    {
      "cell_type": "code",
      "source": [
        "from google.colab import drive\n",
        "drive.mount('/content/drive')"
      ],
      "metadata": {
        "colab": {
          "base_uri": "https://localhost:8080/"
        },
        "id": "5KoUSFz4aqX1",
        "outputId": "6d4356aa-c071-4981-9271-27a857b2a94a"
      },
      "execution_count": 4,
      "outputs": [
        {
          "output_type": "stream",
          "name": "stdout",
          "text": [
            "Mounted at /content/drive\n"
          ]
        }
      ]
    },
    {
      "cell_type": "markdown",
      "metadata": {
        "id": "OculYdYBXMPi"
      },
      "source": [
        "Step 1: Inspect the DataFrames using `print` and `head`"
      ]
    },
    {
      "cell_type": "code",
      "source": [
        "visits.info()\n",
        "cart.info()\n",
        "checkout.info()\n",
        "purchase.info()"
      ],
      "metadata": {
        "colab": {
          "base_uri": "https://localhost:8080/"
        },
        "id": "G3XCNdQOGvGL",
        "outputId": "7f6ec17a-3e21-4f91-d937-f9d3e5297c68"
      },
      "execution_count": 11,
      "outputs": [
        {
          "output_type": "stream",
          "name": "stdout",
          "text": [
            "<class 'pandas.core.frame.DataFrame'>\n",
            "RangeIndex: 2000 entries, 0 to 1999\n",
            "Data columns (total 2 columns):\n",
            " #   Column      Non-Null Count  Dtype         \n",
            "---  ------      --------------  -----         \n",
            " 0   user_id     2000 non-null   object        \n",
            " 1   visit_time  2000 non-null   datetime64[ns]\n",
            "dtypes: datetime64[ns](1), object(1)\n",
            "memory usage: 31.4+ KB\n",
            "<class 'pandas.core.frame.DataFrame'>\n",
            "RangeIndex: 348 entries, 0 to 347\n",
            "Data columns (total 2 columns):\n",
            " #   Column     Non-Null Count  Dtype         \n",
            "---  ------     --------------  -----         \n",
            " 0   user_id    348 non-null    object        \n",
            " 1   cart_time  348 non-null    datetime64[ns]\n",
            "dtypes: datetime64[ns](1), object(1)\n",
            "memory usage: 5.6+ KB\n",
            "<class 'pandas.core.frame.DataFrame'>\n",
            "RangeIndex: 226 entries, 0 to 225\n",
            "Data columns (total 2 columns):\n",
            " #   Column         Non-Null Count  Dtype         \n",
            "---  ------         --------------  -----         \n",
            " 0   user_id        226 non-null    object        \n",
            " 1   checkout_time  226 non-null    datetime64[ns]\n",
            "dtypes: datetime64[ns](1), object(1)\n",
            "memory usage: 3.7+ KB\n",
            "<class 'pandas.core.frame.DataFrame'>\n",
            "RangeIndex: 252 entries, 0 to 251\n",
            "Data columns (total 2 columns):\n",
            " #   Column         Non-Null Count  Dtype         \n",
            "---  ------         --------------  -----         \n",
            " 0   user_id        252 non-null    object        \n",
            " 1   purchase_time  252 non-null    datetime64[ns]\n",
            "dtypes: datetime64[ns](1), object(1)\n",
            "memory usage: 4.1+ KB\n"
          ]
        }
      ]
    },
    {
      "cell_type": "code",
      "execution_count": 5,
      "metadata": {
        "colab": {
          "base_uri": "https://localhost:8080/"
        },
        "id": "IM0cVewjXMPi",
        "outputId": "d0dc4ad1-7eb0-47ae-cbb8-bf911e3b09cc"
      },
      "outputs": [
        {
          "output_type": "stream",
          "name": "stdout",
          "text": [
            "                                user_id          visit_time\n",
            "0  943647ef-3682-4750-a2e1-918ba6f16188 2017-04-07 15:14:00\n",
            "1  0c3a3dd0-fb64-4eac-bf84-ba069ce409f2 2017-01-26 14:24:00\n",
            "2  6e0b2d60-4027-4d9a-babd-0e7d40859fb1 2017-08-20 08:23:00\n",
            "3  6879527e-c5a6-4d14-b2da-50b85212b0ab 2017-11-04 18:15:00\n",
            "4  a84327ff-5daa-4ba1-b789-d5b4caf81e96 2017-02-27 11:25:00\n",
            "                                user_id           cart_time\n",
            "0  2be90e7c-9cca-44e0-bcc5-124b945ff168 2017-11-07 20:45:00\n",
            "1  4397f73f-1da3-4ab3-91af-762792e25973 2017-05-27 01:35:00\n",
            "2  a9db3d4b-0a0a-4398-a55a-ebb2c7adf663 2017-03-04 10:38:00\n",
            "3  b594862a-36c5-47d5-b818-6e9512b939b3 2017-09-27 08:22:00\n",
            "4  a68a16e2-94f0-4ce8-8ce3-784af0bbb974 2017-07-26 15:48:00\n",
            "                                user_id       checkout_time\n",
            "0  d33bdc47-4afa-45bc-b4e4-dbe948e34c0d 2017-06-25 09:29:00\n",
            "1  4ac186f0-9954-4fea-8a27-c081e428e34e 2017-04-07 20:11:00\n",
            "2  3c9c78a7-124a-4b77-8d2e-e1926e011e7d 2017-07-13 11:38:00\n",
            "3  89fe330a-8966-4756-8f7c-3bdbcd47279a 2017-04-20 16:15:00\n",
            "4  3ccdaf69-2d30-40de-b083-51372881aedd 2017-01-08 20:52:00\n",
            "                                user_id       purchase_time\n",
            "0  4b44ace4-2721-47a0-b24b-15fbfa2abf85 2017-05-11 04:25:00\n",
            "1  02e684ae-a448-408f-a9ff-dcb4a5c99aac 2017-09-05 08:45:00\n",
            "2  4b4bc391-749e-4b90-ab8f-4f6e3c84d6dc 2017-11-20 20:49:00\n",
            "3  a5dbb25f-3c36-4103-9030-9f7c6241cd8d 2017-01-22 15:18:00\n",
            "4  46a3186d-7f5a-4ab9-87af-84d05bfd4867 2017-06-11 11:32:00\n"
          ]
        }
      ],
      "source": [
        "print(visits.head(5))\n",
        "print(cart.head(5))\n",
        "print(checkout.head(5))\n",
        "print(purchase.head(5))"
      ]
    },
    {
      "cell_type": "markdown",
      "metadata": {
        "id": "0Gb26LRkXMPj"
      },
      "source": [
        "Step 2: Left merging visits and cart"
      ]
    },
    {
      "cell_type": "code",
      "execution_count": 6,
      "metadata": {
        "colab": {
          "base_uri": "https://localhost:8080/"
        },
        "id": "6wX-Dpv_XMPk",
        "outputId": "c80acd58-7cbc-4643-81ca-3c6e4e891f85"
      },
      "outputs": [
        {
          "output_type": "stream",
          "name": "stdout",
          "text": [
            "                                user_id          visit_time  \\\n",
            "0  943647ef-3682-4750-a2e1-918ba6f16188 2017-04-07 15:14:00   \n",
            "1  0c3a3dd0-fb64-4eac-bf84-ba069ce409f2 2017-01-26 14:24:00   \n",
            "2  6e0b2d60-4027-4d9a-babd-0e7d40859fb1 2017-08-20 08:23:00   \n",
            "3  6879527e-c5a6-4d14-b2da-50b85212b0ab 2017-11-04 18:15:00   \n",
            "4  a84327ff-5daa-4ba1-b789-d5b4caf81e96 2017-02-27 11:25:00   \n",
            "\n",
            "            cart_time  \n",
            "0                 NaT  \n",
            "1 2017-01-26 14:44:00  \n",
            "2 2017-08-20 08:31:00  \n",
            "3                 NaT  \n",
            "4                 NaT  \n"
          ]
        }
      ],
      "source": [
        "visits_cart = pd.merge(visits, cart, how='left')\n",
        "print(visits_cart.head())"
      ]
    },
    {
      "cell_type": "markdown",
      "metadata": {
        "id": "C9N7m40UXMPk"
      },
      "source": [
        "Step 3: How long is `visits_cart`?"
      ]
    },
    {
      "cell_type": "code",
      "execution_count": 7,
      "metadata": {
        "colab": {
          "base_uri": "https://localhost:8080/"
        },
        "id": "dhZYKbkVXMPk",
        "outputId": "e7010538-338b-4956-86b0-b8dca4ea092a"
      },
      "outputs": [
        {
          "output_type": "execute_result",
          "data": {
            "text/plain": [
              "(2000, 3)"
            ]
          },
          "metadata": {},
          "execution_count": 7
        }
      ],
      "source": [
        "visits_cart.shape"
      ]
    },
    {
      "cell_type": "markdown",
      "metadata": {
        "id": "yn2p2R0JXMPk"
      },
      "source": [
        "Step 4: How many timestamps are null for `cart_time`?"
      ]
    },
    {
      "cell_type": "code",
      "execution_count": 8,
      "metadata": {
        "colab": {
          "base_uri": "https://localhost:8080/"
        },
        "id": "3vLTTxMwXMPk",
        "outputId": "97cbbaab-8482-4e8d-8a52-928939045900"
      },
      "outputs": [
        {
          "output_type": "execute_result",
          "data": {
            "text/plain": [
              "1652"
            ]
          },
          "metadata": {},
          "execution_count": 8
        }
      ],
      "source": [
        "visits_cart.cart_time.isnull().sum()"
      ]
    },
    {
      "cell_type": "markdown",
      "metadata": {
        "id": "yUO84U6hXMPl"
      },
      "source": [
        "Step 5: What percentage only visited?"
      ]
    },
    {
      "cell_type": "code",
      "execution_count": 12,
      "metadata": {
        "colab": {
          "base_uri": "https://localhost:8080/"
        },
        "id": "mdk3LFFwXMPl",
        "outputId": "19fc8398-34be-4af5-a9d5-74920e0dcaad"
      },
      "outputs": [
        {
          "output_type": "execute_result",
          "data": {
            "text/plain": [
              "82.6"
            ]
          },
          "metadata": {},
          "execution_count": 12
        }
      ],
      "source": [
        "visits_cart.cart_time.isnull().sum() / visits_cart.shape[0] * 100"
      ]
    },
    {
      "cell_type": "markdown",
      "metadata": {
        "id": "jbYxPZ5wXMPl"
      },
      "source": [
        "Step 6: What percentage placed a t-shirt in their cart but did not checkout?"
      ]
    },
    {
      "cell_type": "code",
      "source": [
        "checkout.info()\n",
        "(visits_cart.shape[0] - visits_cart.cart_time.isnull().sum())"
      ],
      "metadata": {
        "colab": {
          "base_uri": "https://localhost:8080/"
        },
        "id": "OFd-r4-5Nf51",
        "outputId": "6360ad23-3dee-42e4-9b5d-7164bab9bfb2"
      },
      "execution_count": 17,
      "outputs": [
        {
          "output_type": "stream",
          "name": "stdout",
          "text": [
            "<class 'pandas.core.frame.DataFrame'>\n",
            "RangeIndex: 226 entries, 0 to 225\n",
            "Data columns (total 2 columns):\n",
            " #   Column         Non-Null Count  Dtype         \n",
            "---  ------         --------------  -----         \n",
            " 0   user_id        226 non-null    object        \n",
            " 1   checkout_time  226 non-null    datetime64[ns]\n",
            "dtypes: datetime64[ns](1), object(1)\n",
            "memory usage: 3.7+ KB\n"
          ]
        },
        {
          "output_type": "execute_result",
          "data": {
            "text/plain": [
              "348"
            ]
          },
          "metadata": {},
          "execution_count": 17
        }
      ]
    },
    {
      "cell_type": "code",
      "execution_count": 19,
      "metadata": {
        "colab": {
          "base_uri": "https://localhost:8080/"
        },
        "id": "ML2wz24EXMPl",
        "outputId": "683c6338-79a9-4cd4-e716-555b41e075e9"
      },
      "outputs": [
        {
          "output_type": "execute_result",
          "data": {
            "text/plain": [
              "6.1"
            ]
          },
          "metadata": {},
          "execution_count": 19
        }
      ],
      "source": [
        "(visits_cart.shape[0] - visits_cart.cart_time.isnull().sum() - checkout.shape[0]) / visits_cart.shape[0] * 100"
      ]
    },
    {
      "cell_type": "markdown",
      "metadata": {
        "id": "PGQ3OgOEXMPl"
      },
      "source": [
        "Step 7: Merge it all together"
      ]
    },
    {
      "cell_type": "code",
      "execution_count": 21,
      "metadata": {
        "colab": {
          "base_uri": "https://localhost:8080/",
          "height": 359
        },
        "id": "AltYaMP8XMPl",
        "outputId": "997718db-5df8-4382-e094-2d88594504ee"
      },
      "outputs": [
        {
          "output_type": "execute_result",
          "data": {
            "text/plain": [
              "                                user_id          visit_time  \\\n",
              "0  943647ef-3682-4750-a2e1-918ba6f16188 2017-04-07 15:14:00   \n",
              "1  0c3a3dd0-fb64-4eac-bf84-ba069ce409f2 2017-01-26 14:24:00   \n",
              "2  6e0b2d60-4027-4d9a-babd-0e7d40859fb1 2017-08-20 08:23:00   \n",
              "3  6879527e-c5a6-4d14-b2da-50b85212b0ab 2017-11-04 18:15:00   \n",
              "4  a84327ff-5daa-4ba1-b789-d5b4caf81e96 2017-02-27 11:25:00   \n",
              "5  7bc62113-d51d-4e6b-85e0-1cf29e3de74a 2017-06-03 20:05:00   \n",
              "6  6f22cd44-bc63-4449-a9af-2651859da2f9 2017-03-18 23:09:00   \n",
              "7  49a6399b-c095-4e42-92eb-af90abe2bb6a 2017-01-10 12:09:00   \n",
              "8  653c095d-fd74-40dd-ae3b-5a69a2613629 2017-06-27 19:21:00   \n",
              "9  3d9fdac1-aae3-4a01-b448-934d12047468 2017-09-24 06:43:00   \n",
              "\n",
              "            cart_time       checkout_time       purchase_time  \n",
              "0                 NaT                 NaT                 NaT  \n",
              "1 2017-01-26 14:44:00 2017-01-26 14:54:00 2017-01-26 15:08:00  \n",
              "2 2017-08-20 08:31:00                 NaT                 NaT  \n",
              "3                 NaT                 NaT                 NaT  \n",
              "4                 NaT                 NaT                 NaT  \n",
              "5                 NaT                 NaT                 NaT  \n",
              "6                 NaT                 NaT                 NaT  \n",
              "7                 NaT                 NaT                 NaT  \n",
              "8                 NaT                 NaT                 NaT  \n",
              "9                 NaT                 NaT                 NaT  "
            ],
            "text/html": [
              "\n",
              "  <div id=\"df-8f9fb94e-c372-452c-915e-aa1cdeb4f210\" class=\"colab-df-container\">\n",
              "    <div>\n",
              "<style scoped>\n",
              "    .dataframe tbody tr th:only-of-type {\n",
              "        vertical-align: middle;\n",
              "    }\n",
              "\n",
              "    .dataframe tbody tr th {\n",
              "        vertical-align: top;\n",
              "    }\n",
              "\n",
              "    .dataframe thead th {\n",
              "        text-align: right;\n",
              "    }\n",
              "</style>\n",
              "<table border=\"1\" class=\"dataframe\">\n",
              "  <thead>\n",
              "    <tr style=\"text-align: right;\">\n",
              "      <th></th>\n",
              "      <th>user_id</th>\n",
              "      <th>visit_time</th>\n",
              "      <th>cart_time</th>\n",
              "      <th>checkout_time</th>\n",
              "      <th>purchase_time</th>\n",
              "    </tr>\n",
              "  </thead>\n",
              "  <tbody>\n",
              "    <tr>\n",
              "      <th>0</th>\n",
              "      <td>943647ef-3682-4750-a2e1-918ba6f16188</td>\n",
              "      <td>2017-04-07 15:14:00</td>\n",
              "      <td>NaT</td>\n",
              "      <td>NaT</td>\n",
              "      <td>NaT</td>\n",
              "    </tr>\n",
              "    <tr>\n",
              "      <th>1</th>\n",
              "      <td>0c3a3dd0-fb64-4eac-bf84-ba069ce409f2</td>\n",
              "      <td>2017-01-26 14:24:00</td>\n",
              "      <td>2017-01-26 14:44:00</td>\n",
              "      <td>2017-01-26 14:54:00</td>\n",
              "      <td>2017-01-26 15:08:00</td>\n",
              "    </tr>\n",
              "    <tr>\n",
              "      <th>2</th>\n",
              "      <td>6e0b2d60-4027-4d9a-babd-0e7d40859fb1</td>\n",
              "      <td>2017-08-20 08:23:00</td>\n",
              "      <td>2017-08-20 08:31:00</td>\n",
              "      <td>NaT</td>\n",
              "      <td>NaT</td>\n",
              "    </tr>\n",
              "    <tr>\n",
              "      <th>3</th>\n",
              "      <td>6879527e-c5a6-4d14-b2da-50b85212b0ab</td>\n",
              "      <td>2017-11-04 18:15:00</td>\n",
              "      <td>NaT</td>\n",
              "      <td>NaT</td>\n",
              "      <td>NaT</td>\n",
              "    </tr>\n",
              "    <tr>\n",
              "      <th>4</th>\n",
              "      <td>a84327ff-5daa-4ba1-b789-d5b4caf81e96</td>\n",
              "      <td>2017-02-27 11:25:00</td>\n",
              "      <td>NaT</td>\n",
              "      <td>NaT</td>\n",
              "      <td>NaT</td>\n",
              "    </tr>\n",
              "    <tr>\n",
              "      <th>5</th>\n",
              "      <td>7bc62113-d51d-4e6b-85e0-1cf29e3de74a</td>\n",
              "      <td>2017-06-03 20:05:00</td>\n",
              "      <td>NaT</td>\n",
              "      <td>NaT</td>\n",
              "      <td>NaT</td>\n",
              "    </tr>\n",
              "    <tr>\n",
              "      <th>6</th>\n",
              "      <td>6f22cd44-bc63-4449-a9af-2651859da2f9</td>\n",
              "      <td>2017-03-18 23:09:00</td>\n",
              "      <td>NaT</td>\n",
              "      <td>NaT</td>\n",
              "      <td>NaT</td>\n",
              "    </tr>\n",
              "    <tr>\n",
              "      <th>7</th>\n",
              "      <td>49a6399b-c095-4e42-92eb-af90abe2bb6a</td>\n",
              "      <td>2017-01-10 12:09:00</td>\n",
              "      <td>NaT</td>\n",
              "      <td>NaT</td>\n",
              "      <td>NaT</td>\n",
              "    </tr>\n",
              "    <tr>\n",
              "      <th>8</th>\n",
              "      <td>653c095d-fd74-40dd-ae3b-5a69a2613629</td>\n",
              "      <td>2017-06-27 19:21:00</td>\n",
              "      <td>NaT</td>\n",
              "      <td>NaT</td>\n",
              "      <td>NaT</td>\n",
              "    </tr>\n",
              "    <tr>\n",
              "      <th>9</th>\n",
              "      <td>3d9fdac1-aae3-4a01-b448-934d12047468</td>\n",
              "      <td>2017-09-24 06:43:00</td>\n",
              "      <td>NaT</td>\n",
              "      <td>NaT</td>\n",
              "      <td>NaT</td>\n",
              "    </tr>\n",
              "  </tbody>\n",
              "</table>\n",
              "</div>\n",
              "    <div class=\"colab-df-buttons\">\n",
              "\n",
              "  <div class=\"colab-df-container\">\n",
              "    <button class=\"colab-df-convert\" onclick=\"convertToInteractive('df-8f9fb94e-c372-452c-915e-aa1cdeb4f210')\"\n",
              "            title=\"Convert this dataframe to an interactive table.\"\n",
              "            style=\"display:none;\">\n",
              "\n",
              "  <svg xmlns=\"http://www.w3.org/2000/svg\" height=\"24px\" viewBox=\"0 -960 960 960\">\n",
              "    <path d=\"M120-120v-720h720v720H120Zm60-500h600v-160H180v160Zm220 220h160v-160H400v160Zm0 220h160v-160H400v160ZM180-400h160v-160H180v160Zm440 0h160v-160H620v160ZM180-180h160v-160H180v160Zm440 0h160v-160H620v160Z\"/>\n",
              "  </svg>\n",
              "    </button>\n",
              "\n",
              "  <style>\n",
              "    .colab-df-container {\n",
              "      display:flex;\n",
              "      gap: 12px;\n",
              "    }\n",
              "\n",
              "    .colab-df-convert {\n",
              "      background-color: #E8F0FE;\n",
              "      border: none;\n",
              "      border-radius: 50%;\n",
              "      cursor: pointer;\n",
              "      display: none;\n",
              "      fill: #1967D2;\n",
              "      height: 32px;\n",
              "      padding: 0 0 0 0;\n",
              "      width: 32px;\n",
              "    }\n",
              "\n",
              "    .colab-df-convert:hover {\n",
              "      background-color: #E2EBFA;\n",
              "      box-shadow: 0px 1px 2px rgba(60, 64, 67, 0.3), 0px 1px 3px 1px rgba(60, 64, 67, 0.15);\n",
              "      fill: #174EA6;\n",
              "    }\n",
              "\n",
              "    .colab-df-buttons div {\n",
              "      margin-bottom: 4px;\n",
              "    }\n",
              "\n",
              "    [theme=dark] .colab-df-convert {\n",
              "      background-color: #3B4455;\n",
              "      fill: #D2E3FC;\n",
              "    }\n",
              "\n",
              "    [theme=dark] .colab-df-convert:hover {\n",
              "      background-color: #434B5C;\n",
              "      box-shadow: 0px 1px 3px 1px rgba(0, 0, 0, 0.15);\n",
              "      filter: drop-shadow(0px 1px 2px rgba(0, 0, 0, 0.3));\n",
              "      fill: #FFFFFF;\n",
              "    }\n",
              "  </style>\n",
              "\n",
              "    <script>\n",
              "      const buttonEl =\n",
              "        document.querySelector('#df-8f9fb94e-c372-452c-915e-aa1cdeb4f210 button.colab-df-convert');\n",
              "      buttonEl.style.display =\n",
              "        google.colab.kernel.accessAllowed ? 'block' : 'none';\n",
              "\n",
              "      async function convertToInteractive(key) {\n",
              "        const element = document.querySelector('#df-8f9fb94e-c372-452c-915e-aa1cdeb4f210');\n",
              "        const dataTable =\n",
              "          await google.colab.kernel.invokeFunction('convertToInteractive',\n",
              "                                                    [key], {});\n",
              "        if (!dataTable) return;\n",
              "\n",
              "        const docLinkHtml = 'Like what you see? Visit the ' +\n",
              "          '<a target=\"_blank\" href=https://colab.research.google.com/notebooks/data_table.ipynb>data table notebook</a>'\n",
              "          + ' to learn more about interactive tables.';\n",
              "        element.innerHTML = '';\n",
              "        dataTable['output_type'] = 'display_data';\n",
              "        await google.colab.output.renderOutput(dataTable, element);\n",
              "        const docLink = document.createElement('div');\n",
              "        docLink.innerHTML = docLinkHtml;\n",
              "        element.appendChild(docLink);\n",
              "      }\n",
              "    </script>\n",
              "  </div>\n",
              "\n",
              "\n",
              "<div id=\"df-ad29e0d3-a702-4333-83be-ee8f77e3db7c\">\n",
              "  <button class=\"colab-df-quickchart\" onclick=\"quickchart('df-ad29e0d3-a702-4333-83be-ee8f77e3db7c')\"\n",
              "            title=\"Suggest charts\"\n",
              "            style=\"display:none;\">\n",
              "\n",
              "<svg xmlns=\"http://www.w3.org/2000/svg\" height=\"24px\"viewBox=\"0 0 24 24\"\n",
              "     width=\"24px\">\n",
              "    <g>\n",
              "        <path d=\"M19 3H5c-1.1 0-2 .9-2 2v14c0 1.1.9 2 2 2h14c1.1 0 2-.9 2-2V5c0-1.1-.9-2-2-2zM9 17H7v-7h2v7zm4 0h-2V7h2v10zm4 0h-2v-4h2v4z\"/>\n",
              "    </g>\n",
              "</svg>\n",
              "  </button>\n",
              "\n",
              "<style>\n",
              "  .colab-df-quickchart {\n",
              "      --bg-color: #E8F0FE;\n",
              "      --fill-color: #1967D2;\n",
              "      --hover-bg-color: #E2EBFA;\n",
              "      --hover-fill-color: #174EA6;\n",
              "      --disabled-fill-color: #AAA;\n",
              "      --disabled-bg-color: #DDD;\n",
              "  }\n",
              "\n",
              "  [theme=dark] .colab-df-quickchart {\n",
              "      --bg-color: #3B4455;\n",
              "      --fill-color: #D2E3FC;\n",
              "      --hover-bg-color: #434B5C;\n",
              "      --hover-fill-color: #FFFFFF;\n",
              "      --disabled-bg-color: #3B4455;\n",
              "      --disabled-fill-color: #666;\n",
              "  }\n",
              "\n",
              "  .colab-df-quickchart {\n",
              "    background-color: var(--bg-color);\n",
              "    border: none;\n",
              "    border-radius: 50%;\n",
              "    cursor: pointer;\n",
              "    display: none;\n",
              "    fill: var(--fill-color);\n",
              "    height: 32px;\n",
              "    padding: 0;\n",
              "    width: 32px;\n",
              "  }\n",
              "\n",
              "  .colab-df-quickchart:hover {\n",
              "    background-color: var(--hover-bg-color);\n",
              "    box-shadow: 0 1px 2px rgba(60, 64, 67, 0.3), 0 1px 3px 1px rgba(60, 64, 67, 0.15);\n",
              "    fill: var(--button-hover-fill-color);\n",
              "  }\n",
              "\n",
              "  .colab-df-quickchart-complete:disabled,\n",
              "  .colab-df-quickchart-complete:disabled:hover {\n",
              "    background-color: var(--disabled-bg-color);\n",
              "    fill: var(--disabled-fill-color);\n",
              "    box-shadow: none;\n",
              "  }\n",
              "\n",
              "  .colab-df-spinner {\n",
              "    border: 2px solid var(--fill-color);\n",
              "    border-color: transparent;\n",
              "    border-bottom-color: var(--fill-color);\n",
              "    animation:\n",
              "      spin 1s steps(1) infinite;\n",
              "  }\n",
              "\n",
              "  @keyframes spin {\n",
              "    0% {\n",
              "      border-color: transparent;\n",
              "      border-bottom-color: var(--fill-color);\n",
              "      border-left-color: var(--fill-color);\n",
              "    }\n",
              "    20% {\n",
              "      border-color: transparent;\n",
              "      border-left-color: var(--fill-color);\n",
              "      border-top-color: var(--fill-color);\n",
              "    }\n",
              "    30% {\n",
              "      border-color: transparent;\n",
              "      border-left-color: var(--fill-color);\n",
              "      border-top-color: var(--fill-color);\n",
              "      border-right-color: var(--fill-color);\n",
              "    }\n",
              "    40% {\n",
              "      border-color: transparent;\n",
              "      border-right-color: var(--fill-color);\n",
              "      border-top-color: var(--fill-color);\n",
              "    }\n",
              "    60% {\n",
              "      border-color: transparent;\n",
              "      border-right-color: var(--fill-color);\n",
              "    }\n",
              "    80% {\n",
              "      border-color: transparent;\n",
              "      border-right-color: var(--fill-color);\n",
              "      border-bottom-color: var(--fill-color);\n",
              "    }\n",
              "    90% {\n",
              "      border-color: transparent;\n",
              "      border-bottom-color: var(--fill-color);\n",
              "    }\n",
              "  }\n",
              "</style>\n",
              "\n",
              "  <script>\n",
              "    async function quickchart(key) {\n",
              "      const quickchartButtonEl =\n",
              "        document.querySelector('#' + key + ' button');\n",
              "      quickchartButtonEl.disabled = true;  // To prevent multiple clicks.\n",
              "      quickchartButtonEl.classList.add('colab-df-spinner');\n",
              "      try {\n",
              "        const charts = await google.colab.kernel.invokeFunction(\n",
              "            'suggestCharts', [key], {});\n",
              "      } catch (error) {\n",
              "        console.error('Error during call to suggestCharts:', error);\n",
              "      }\n",
              "      quickchartButtonEl.classList.remove('colab-df-spinner');\n",
              "      quickchartButtonEl.classList.add('colab-df-quickchart-complete');\n",
              "    }\n",
              "    (() => {\n",
              "      let quickchartButtonEl =\n",
              "        document.querySelector('#df-ad29e0d3-a702-4333-83be-ee8f77e3db7c button');\n",
              "      quickchartButtonEl.style.display =\n",
              "        google.colab.kernel.accessAllowed ? 'block' : 'none';\n",
              "    })();\n",
              "  </script>\n",
              "</div>\n",
              "\n",
              "    </div>\n",
              "  </div>\n"
            ],
            "application/vnd.google.colaboratory.intrinsic+json": {
              "type": "dataframe",
              "variable_name": "funnel",
              "summary": "{\n  \"name\": \"funnel\",\n  \"rows\": 2108,\n  \"fields\": [\n    {\n      \"column\": \"user_id\",\n      \"properties\": {\n        \"dtype\": \"string\",\n        \"num_unique_values\": 2000,\n        \"samples\": [\n          \"f2572ec2-4bd4-4c70-aa2f-9fead97fba07\",\n          \"7a3a3049-2706-4451-a445-034d6dcef40a\",\n          \"e7f43daa-4f75-4c66-8df7-545ed21de859\"\n        ],\n        \"semantic_type\": \"\",\n        \"description\": \"\"\n      }\n    },\n    {\n      \"column\": \"visit_time\",\n      \"properties\": {\n        \"dtype\": \"date\",\n        \"min\": \"2017-01-01 03:47:00\",\n        \"max\": \"2017-11-27 09:40:00\",\n        \"num_unique_values\": 1996,\n        \"samples\": [\n          \"2017-07-13 11:29:00\",\n          \"2017-06-27 03:42:00\",\n          \"2017-06-07 23:08:00\"\n        ],\n        \"semantic_type\": \"\",\n        \"description\": \"\"\n      }\n    },\n    {\n      \"column\": \"cart_time\",\n      \"properties\": {\n        \"dtype\": \"date\",\n        \"min\": \"2017-01-01 03:58:00\",\n        \"max\": \"2017-11-27 08:54:00\",\n        \"num_unique_values\": 348,\n        \"samples\": [\n          \"2017-03-19 05:26:00\",\n          \"2017-03-04 08:32:00\",\n          \"2017-08-17 10:19:00\"\n        ],\n        \"semantic_type\": \"\",\n        \"description\": \"\"\n      }\n    },\n    {\n      \"column\": \"checkout_time\",\n      \"properties\": {\n        \"dtype\": \"date\",\n        \"min\": \"2017-01-04 05:32:00\",\n        \"max\": \"2017-11-27 09:18:00\",\n        \"num_unique_values\": 226,\n        \"samples\": [\n          \"2017-11-17 08:19:00\",\n          \"2017-07-22 09:35:00\",\n          \"2017-09-14 21:04:00\"\n        ],\n        \"semantic_type\": \"\",\n        \"description\": \"\"\n      }\n    },\n    {\n      \"column\": \"purchase_time\",\n      \"properties\": {\n        \"dtype\": \"date\",\n        \"min\": \"2017-01-05 02:45:00\",\n        \"max\": \"2017-11-24 05:38:00\",\n        \"num_unique_values\": 246,\n        \"samples\": [\n          \"2017-05-02 08:08:00\",\n          \"2017-05-14 11:36:00\",\n          \"2017-10-22 01:43:00\"\n        ],\n        \"semantic_type\": \"\",\n        \"description\": \"\"\n      }\n    }\n  ]\n}"
            }
          },
          "metadata": {},
          "execution_count": 21
        }
      ],
      "source": [
        "funnel = visits_cart.merge(cart, how='left').merge(checkout, how='left').merge(purchase, how='left')\n",
        "funnel.head(10)"
      ]
    },
    {
      "cell_type": "markdown",
      "metadata": {
        "id": "QrP8NLIRXMPm"
      },
      "source": [
        "Step 8: % of users who got to checkout but did not purchase"
      ]
    },
    {
      "cell_type": "code",
      "execution_count": 22,
      "metadata": {
        "colab": {
          "base_uri": "https://localhost:8080/"
        },
        "id": "PHBJNJXtXMPm",
        "outputId": "9e4724dd-7a9a-4948-eca5-4e95fad96a34"
      },
      "outputs": [
        {
          "output_type": "execute_result",
          "data": {
            "text/plain": [
              "15.844402277039848"
            ]
          },
          "metadata": {},
          "execution_count": 22
        }
      ],
      "source": [
        "(funnel.shape[0] - funnel.checkout_time.isnull().sum()) / funnel.shape[0] * 100"
      ]
    },
    {
      "cell_type": "markdown",
      "metadata": {
        "id": "j_vnEN8AXMPm"
      },
      "source": [
        "Step 9: check each part of the funnel, let's print all 3 of them again"
      ]
    },
    {
      "cell_type": "code",
      "execution_count": 23,
      "metadata": {
        "colab": {
          "base_uri": "https://localhost:8080/"
        },
        "id": "_bb5zrTpXMPm",
        "outputId": "ff3cf61a-355d-469e-b1bd-d50af35a244c"
      },
      "outputs": [
        {
          "output_type": "stream",
          "name": "stdout",
          "text": [
            "                                user_id          visit_time\n",
            "0  943647ef-3682-4750-a2e1-918ba6f16188 2017-04-07 15:14:00\n",
            "1  0c3a3dd0-fb64-4eac-bf84-ba069ce409f2 2017-01-26 14:24:00\n",
            "2  6e0b2d60-4027-4d9a-babd-0e7d40859fb1 2017-08-20 08:23:00\n",
            "3  6879527e-c5a6-4d14-b2da-50b85212b0ab 2017-11-04 18:15:00\n",
            "4  a84327ff-5daa-4ba1-b789-d5b4caf81e96 2017-02-27 11:25:00\n",
            "                                user_id           cart_time\n",
            "0  2be90e7c-9cca-44e0-bcc5-124b945ff168 2017-11-07 20:45:00\n",
            "1  4397f73f-1da3-4ab3-91af-762792e25973 2017-05-27 01:35:00\n",
            "2  a9db3d4b-0a0a-4398-a55a-ebb2c7adf663 2017-03-04 10:38:00\n",
            "3  b594862a-36c5-47d5-b818-6e9512b939b3 2017-09-27 08:22:00\n",
            "4  a68a16e2-94f0-4ce8-8ce3-784af0bbb974 2017-07-26 15:48:00\n",
            "                                user_id       checkout_time\n",
            "0  d33bdc47-4afa-45bc-b4e4-dbe948e34c0d 2017-06-25 09:29:00\n",
            "1  4ac186f0-9954-4fea-8a27-c081e428e34e 2017-04-07 20:11:00\n",
            "2  3c9c78a7-124a-4b77-8d2e-e1926e011e7d 2017-07-13 11:38:00\n",
            "3  89fe330a-8966-4756-8f7c-3bdbcd47279a 2017-04-20 16:15:00\n",
            "4  3ccdaf69-2d30-40de-b083-51372881aedd 2017-01-08 20:52:00\n"
          ]
        }
      ],
      "source": [
        "print(visits.head())\n",
        "print(cart.head())\n",
        "print(checkout.head())"
      ]
    },
    {
      "cell_type": "markdown",
      "metadata": {
        "id": "JHdsmsH8XMPm"
      },
      "source": [
        "*The weakest part of the funnel is clearly getting a person who visited the site to add a tshirt to their cart. Once they've added a t-shirt to their cart it is fairly likely they end up purchasing it. A suggestion could be to make the add-to-cart button more prominent on the front page.*\n",
        "\n",
        "\n",
        "Step 10: adding new column"
      ]
    },
    {
      "cell_type": "code",
      "execution_count": 26,
      "metadata": {
        "id": "_0pW4G_mXMPn"
      },
      "outputs": [],
      "source": [
        "funnel['time_to_purchase'] = funnel.purchase_time - funnel.visit_time\n"
      ]
    },
    {
      "cell_type": "markdown",
      "metadata": {
        "id": "E9GDXfN0XMPn"
      },
      "source": [
        "Step 11: examine the results"
      ]
    },
    {
      "cell_type": "code",
      "execution_count": 27,
      "metadata": {
        "colab": {
          "base_uri": "https://localhost:8080/",
          "height": 359
        },
        "id": "pd4Uqn3_XMPn",
        "outputId": "6f52fb6a-3069-46ce-f517-73edfa59b927"
      },
      "outputs": [
        {
          "output_type": "execute_result",
          "data": {
            "text/plain": [
              "                                user_id          visit_time  \\\n",
              "0  943647ef-3682-4750-a2e1-918ba6f16188 2017-04-07 15:14:00   \n",
              "1  0c3a3dd0-fb64-4eac-bf84-ba069ce409f2 2017-01-26 14:24:00   \n",
              "2  6e0b2d60-4027-4d9a-babd-0e7d40859fb1 2017-08-20 08:23:00   \n",
              "3  6879527e-c5a6-4d14-b2da-50b85212b0ab 2017-11-04 18:15:00   \n",
              "4  a84327ff-5daa-4ba1-b789-d5b4caf81e96 2017-02-27 11:25:00   \n",
              "5  7bc62113-d51d-4e6b-85e0-1cf29e3de74a 2017-06-03 20:05:00   \n",
              "6  6f22cd44-bc63-4449-a9af-2651859da2f9 2017-03-18 23:09:00   \n",
              "7  49a6399b-c095-4e42-92eb-af90abe2bb6a 2017-01-10 12:09:00   \n",
              "8  653c095d-fd74-40dd-ae3b-5a69a2613629 2017-06-27 19:21:00   \n",
              "9  3d9fdac1-aae3-4a01-b448-934d12047468 2017-09-24 06:43:00   \n",
              "\n",
              "            cart_time       checkout_time       purchase_time time_to_purchase  \n",
              "0                 NaT                 NaT                 NaT              NaT  \n",
              "1 2017-01-26 14:44:00 2017-01-26 14:54:00 2017-01-26 15:08:00  0 days 00:44:00  \n",
              "2 2017-08-20 08:31:00                 NaT                 NaT              NaT  \n",
              "3                 NaT                 NaT                 NaT              NaT  \n",
              "4                 NaT                 NaT                 NaT              NaT  \n",
              "5                 NaT                 NaT                 NaT              NaT  \n",
              "6                 NaT                 NaT                 NaT              NaT  \n",
              "7                 NaT                 NaT                 NaT              NaT  \n",
              "8                 NaT                 NaT                 NaT              NaT  \n",
              "9                 NaT                 NaT                 NaT              NaT  "
            ],
            "text/html": [
              "\n",
              "  <div id=\"df-4a5b994d-55f9-4fc3-a57d-5739d0095734\" class=\"colab-df-container\">\n",
              "    <div>\n",
              "<style scoped>\n",
              "    .dataframe tbody tr th:only-of-type {\n",
              "        vertical-align: middle;\n",
              "    }\n",
              "\n",
              "    .dataframe tbody tr th {\n",
              "        vertical-align: top;\n",
              "    }\n",
              "\n",
              "    .dataframe thead th {\n",
              "        text-align: right;\n",
              "    }\n",
              "</style>\n",
              "<table border=\"1\" class=\"dataframe\">\n",
              "  <thead>\n",
              "    <tr style=\"text-align: right;\">\n",
              "      <th></th>\n",
              "      <th>user_id</th>\n",
              "      <th>visit_time</th>\n",
              "      <th>cart_time</th>\n",
              "      <th>checkout_time</th>\n",
              "      <th>purchase_time</th>\n",
              "      <th>time_to_purchase</th>\n",
              "    </tr>\n",
              "  </thead>\n",
              "  <tbody>\n",
              "    <tr>\n",
              "      <th>0</th>\n",
              "      <td>943647ef-3682-4750-a2e1-918ba6f16188</td>\n",
              "      <td>2017-04-07 15:14:00</td>\n",
              "      <td>NaT</td>\n",
              "      <td>NaT</td>\n",
              "      <td>NaT</td>\n",
              "      <td>NaT</td>\n",
              "    </tr>\n",
              "    <tr>\n",
              "      <th>1</th>\n",
              "      <td>0c3a3dd0-fb64-4eac-bf84-ba069ce409f2</td>\n",
              "      <td>2017-01-26 14:24:00</td>\n",
              "      <td>2017-01-26 14:44:00</td>\n",
              "      <td>2017-01-26 14:54:00</td>\n",
              "      <td>2017-01-26 15:08:00</td>\n",
              "      <td>0 days 00:44:00</td>\n",
              "    </tr>\n",
              "    <tr>\n",
              "      <th>2</th>\n",
              "      <td>6e0b2d60-4027-4d9a-babd-0e7d40859fb1</td>\n",
              "      <td>2017-08-20 08:23:00</td>\n",
              "      <td>2017-08-20 08:31:00</td>\n",
              "      <td>NaT</td>\n",
              "      <td>NaT</td>\n",
              "      <td>NaT</td>\n",
              "    </tr>\n",
              "    <tr>\n",
              "      <th>3</th>\n",
              "      <td>6879527e-c5a6-4d14-b2da-50b85212b0ab</td>\n",
              "      <td>2017-11-04 18:15:00</td>\n",
              "      <td>NaT</td>\n",
              "      <td>NaT</td>\n",
              "      <td>NaT</td>\n",
              "      <td>NaT</td>\n",
              "    </tr>\n",
              "    <tr>\n",
              "      <th>4</th>\n",
              "      <td>a84327ff-5daa-4ba1-b789-d5b4caf81e96</td>\n",
              "      <td>2017-02-27 11:25:00</td>\n",
              "      <td>NaT</td>\n",
              "      <td>NaT</td>\n",
              "      <td>NaT</td>\n",
              "      <td>NaT</td>\n",
              "    </tr>\n",
              "    <tr>\n",
              "      <th>5</th>\n",
              "      <td>7bc62113-d51d-4e6b-85e0-1cf29e3de74a</td>\n",
              "      <td>2017-06-03 20:05:00</td>\n",
              "      <td>NaT</td>\n",
              "      <td>NaT</td>\n",
              "      <td>NaT</td>\n",
              "      <td>NaT</td>\n",
              "    </tr>\n",
              "    <tr>\n",
              "      <th>6</th>\n",
              "      <td>6f22cd44-bc63-4449-a9af-2651859da2f9</td>\n",
              "      <td>2017-03-18 23:09:00</td>\n",
              "      <td>NaT</td>\n",
              "      <td>NaT</td>\n",
              "      <td>NaT</td>\n",
              "      <td>NaT</td>\n",
              "    </tr>\n",
              "    <tr>\n",
              "      <th>7</th>\n",
              "      <td>49a6399b-c095-4e42-92eb-af90abe2bb6a</td>\n",
              "      <td>2017-01-10 12:09:00</td>\n",
              "      <td>NaT</td>\n",
              "      <td>NaT</td>\n",
              "      <td>NaT</td>\n",
              "      <td>NaT</td>\n",
              "    </tr>\n",
              "    <tr>\n",
              "      <th>8</th>\n",
              "      <td>653c095d-fd74-40dd-ae3b-5a69a2613629</td>\n",
              "      <td>2017-06-27 19:21:00</td>\n",
              "      <td>NaT</td>\n",
              "      <td>NaT</td>\n",
              "      <td>NaT</td>\n",
              "      <td>NaT</td>\n",
              "    </tr>\n",
              "    <tr>\n",
              "      <th>9</th>\n",
              "      <td>3d9fdac1-aae3-4a01-b448-934d12047468</td>\n",
              "      <td>2017-09-24 06:43:00</td>\n",
              "      <td>NaT</td>\n",
              "      <td>NaT</td>\n",
              "      <td>NaT</td>\n",
              "      <td>NaT</td>\n",
              "    </tr>\n",
              "  </tbody>\n",
              "</table>\n",
              "</div>\n",
              "    <div class=\"colab-df-buttons\">\n",
              "\n",
              "  <div class=\"colab-df-container\">\n",
              "    <button class=\"colab-df-convert\" onclick=\"convertToInteractive('df-4a5b994d-55f9-4fc3-a57d-5739d0095734')\"\n",
              "            title=\"Convert this dataframe to an interactive table.\"\n",
              "            style=\"display:none;\">\n",
              "\n",
              "  <svg xmlns=\"http://www.w3.org/2000/svg\" height=\"24px\" viewBox=\"0 -960 960 960\">\n",
              "    <path d=\"M120-120v-720h720v720H120Zm60-500h600v-160H180v160Zm220 220h160v-160H400v160Zm0 220h160v-160H400v160ZM180-400h160v-160H180v160Zm440 0h160v-160H620v160ZM180-180h160v-160H180v160Zm440 0h160v-160H620v160Z\"/>\n",
              "  </svg>\n",
              "    </button>\n",
              "\n",
              "  <style>\n",
              "    .colab-df-container {\n",
              "      display:flex;\n",
              "      gap: 12px;\n",
              "    }\n",
              "\n",
              "    .colab-df-convert {\n",
              "      background-color: #E8F0FE;\n",
              "      border: none;\n",
              "      border-radius: 50%;\n",
              "      cursor: pointer;\n",
              "      display: none;\n",
              "      fill: #1967D2;\n",
              "      height: 32px;\n",
              "      padding: 0 0 0 0;\n",
              "      width: 32px;\n",
              "    }\n",
              "\n",
              "    .colab-df-convert:hover {\n",
              "      background-color: #E2EBFA;\n",
              "      box-shadow: 0px 1px 2px rgba(60, 64, 67, 0.3), 0px 1px 3px 1px rgba(60, 64, 67, 0.15);\n",
              "      fill: #174EA6;\n",
              "    }\n",
              "\n",
              "    .colab-df-buttons div {\n",
              "      margin-bottom: 4px;\n",
              "    }\n",
              "\n",
              "    [theme=dark] .colab-df-convert {\n",
              "      background-color: #3B4455;\n",
              "      fill: #D2E3FC;\n",
              "    }\n",
              "\n",
              "    [theme=dark] .colab-df-convert:hover {\n",
              "      background-color: #434B5C;\n",
              "      box-shadow: 0px 1px 3px 1px rgba(0, 0, 0, 0.15);\n",
              "      filter: drop-shadow(0px 1px 2px rgba(0, 0, 0, 0.3));\n",
              "      fill: #FFFFFF;\n",
              "    }\n",
              "  </style>\n",
              "\n",
              "    <script>\n",
              "      const buttonEl =\n",
              "        document.querySelector('#df-4a5b994d-55f9-4fc3-a57d-5739d0095734 button.colab-df-convert');\n",
              "      buttonEl.style.display =\n",
              "        google.colab.kernel.accessAllowed ? 'block' : 'none';\n",
              "\n",
              "      async function convertToInteractive(key) {\n",
              "        const element = document.querySelector('#df-4a5b994d-55f9-4fc3-a57d-5739d0095734');\n",
              "        const dataTable =\n",
              "          await google.colab.kernel.invokeFunction('convertToInteractive',\n",
              "                                                    [key], {});\n",
              "        if (!dataTable) return;\n",
              "\n",
              "        const docLinkHtml = 'Like what you see? Visit the ' +\n",
              "          '<a target=\"_blank\" href=https://colab.research.google.com/notebooks/data_table.ipynb>data table notebook</a>'\n",
              "          + ' to learn more about interactive tables.';\n",
              "        element.innerHTML = '';\n",
              "        dataTable['output_type'] = 'display_data';\n",
              "        await google.colab.output.renderOutput(dataTable, element);\n",
              "        const docLink = document.createElement('div');\n",
              "        docLink.innerHTML = docLinkHtml;\n",
              "        element.appendChild(docLink);\n",
              "      }\n",
              "    </script>\n",
              "  </div>\n",
              "\n",
              "\n",
              "<div id=\"df-87a5b9a4-528f-4809-8988-03918fdb16fa\">\n",
              "  <button class=\"colab-df-quickchart\" onclick=\"quickchart('df-87a5b9a4-528f-4809-8988-03918fdb16fa')\"\n",
              "            title=\"Suggest charts\"\n",
              "            style=\"display:none;\">\n",
              "\n",
              "<svg xmlns=\"http://www.w3.org/2000/svg\" height=\"24px\"viewBox=\"0 0 24 24\"\n",
              "     width=\"24px\">\n",
              "    <g>\n",
              "        <path d=\"M19 3H5c-1.1 0-2 .9-2 2v14c0 1.1.9 2 2 2h14c1.1 0 2-.9 2-2V5c0-1.1-.9-2-2-2zM9 17H7v-7h2v7zm4 0h-2V7h2v10zm4 0h-2v-4h2v4z\"/>\n",
              "    </g>\n",
              "</svg>\n",
              "  </button>\n",
              "\n",
              "<style>\n",
              "  .colab-df-quickchart {\n",
              "      --bg-color: #E8F0FE;\n",
              "      --fill-color: #1967D2;\n",
              "      --hover-bg-color: #E2EBFA;\n",
              "      --hover-fill-color: #174EA6;\n",
              "      --disabled-fill-color: #AAA;\n",
              "      --disabled-bg-color: #DDD;\n",
              "  }\n",
              "\n",
              "  [theme=dark] .colab-df-quickchart {\n",
              "      --bg-color: #3B4455;\n",
              "      --fill-color: #D2E3FC;\n",
              "      --hover-bg-color: #434B5C;\n",
              "      --hover-fill-color: #FFFFFF;\n",
              "      --disabled-bg-color: #3B4455;\n",
              "      --disabled-fill-color: #666;\n",
              "  }\n",
              "\n",
              "  .colab-df-quickchart {\n",
              "    background-color: var(--bg-color);\n",
              "    border: none;\n",
              "    border-radius: 50%;\n",
              "    cursor: pointer;\n",
              "    display: none;\n",
              "    fill: var(--fill-color);\n",
              "    height: 32px;\n",
              "    padding: 0;\n",
              "    width: 32px;\n",
              "  }\n",
              "\n",
              "  .colab-df-quickchart:hover {\n",
              "    background-color: var(--hover-bg-color);\n",
              "    box-shadow: 0 1px 2px rgba(60, 64, 67, 0.3), 0 1px 3px 1px rgba(60, 64, 67, 0.15);\n",
              "    fill: var(--button-hover-fill-color);\n",
              "  }\n",
              "\n",
              "  .colab-df-quickchart-complete:disabled,\n",
              "  .colab-df-quickchart-complete:disabled:hover {\n",
              "    background-color: var(--disabled-bg-color);\n",
              "    fill: var(--disabled-fill-color);\n",
              "    box-shadow: none;\n",
              "  }\n",
              "\n",
              "  .colab-df-spinner {\n",
              "    border: 2px solid var(--fill-color);\n",
              "    border-color: transparent;\n",
              "    border-bottom-color: var(--fill-color);\n",
              "    animation:\n",
              "      spin 1s steps(1) infinite;\n",
              "  }\n",
              "\n",
              "  @keyframes spin {\n",
              "    0% {\n",
              "      border-color: transparent;\n",
              "      border-bottom-color: var(--fill-color);\n",
              "      border-left-color: var(--fill-color);\n",
              "    }\n",
              "    20% {\n",
              "      border-color: transparent;\n",
              "      border-left-color: var(--fill-color);\n",
              "      border-top-color: var(--fill-color);\n",
              "    }\n",
              "    30% {\n",
              "      border-color: transparent;\n",
              "      border-left-color: var(--fill-color);\n",
              "      border-top-color: var(--fill-color);\n",
              "      border-right-color: var(--fill-color);\n",
              "    }\n",
              "    40% {\n",
              "      border-color: transparent;\n",
              "      border-right-color: var(--fill-color);\n",
              "      border-top-color: var(--fill-color);\n",
              "    }\n",
              "    60% {\n",
              "      border-color: transparent;\n",
              "      border-right-color: var(--fill-color);\n",
              "    }\n",
              "    80% {\n",
              "      border-color: transparent;\n",
              "      border-right-color: var(--fill-color);\n",
              "      border-bottom-color: var(--fill-color);\n",
              "    }\n",
              "    90% {\n",
              "      border-color: transparent;\n",
              "      border-bottom-color: var(--fill-color);\n",
              "    }\n",
              "  }\n",
              "</style>\n",
              "\n",
              "  <script>\n",
              "    async function quickchart(key) {\n",
              "      const quickchartButtonEl =\n",
              "        document.querySelector('#' + key + ' button');\n",
              "      quickchartButtonEl.disabled = true;  // To prevent multiple clicks.\n",
              "      quickchartButtonEl.classList.add('colab-df-spinner');\n",
              "      try {\n",
              "        const charts = await google.colab.kernel.invokeFunction(\n",
              "            'suggestCharts', [key], {});\n",
              "      } catch (error) {\n",
              "        console.error('Error during call to suggestCharts:', error);\n",
              "      }\n",
              "      quickchartButtonEl.classList.remove('colab-df-spinner');\n",
              "      quickchartButtonEl.classList.add('colab-df-quickchart-complete');\n",
              "    }\n",
              "    (() => {\n",
              "      let quickchartButtonEl =\n",
              "        document.querySelector('#df-87a5b9a4-528f-4809-8988-03918fdb16fa button');\n",
              "      quickchartButtonEl.style.display =\n",
              "        google.colab.kernel.accessAllowed ? 'block' : 'none';\n",
              "    })();\n",
              "  </script>\n",
              "</div>\n",
              "\n",
              "    </div>\n",
              "  </div>\n"
            ],
            "application/vnd.google.colaboratory.intrinsic+json": {
              "type": "dataframe",
              "variable_name": "funnel",
              "summary": "{\n  \"name\": \"funnel\",\n  \"rows\": 2108,\n  \"fields\": [\n    {\n      \"column\": \"user_id\",\n      \"properties\": {\n        \"dtype\": \"string\",\n        \"num_unique_values\": 2000,\n        \"samples\": [\n          \"f2572ec2-4bd4-4c70-aa2f-9fead97fba07\",\n          \"7a3a3049-2706-4451-a445-034d6dcef40a\",\n          \"e7f43daa-4f75-4c66-8df7-545ed21de859\"\n        ],\n        \"semantic_type\": \"\",\n        \"description\": \"\"\n      }\n    },\n    {\n      \"column\": \"visit_time\",\n      \"properties\": {\n        \"dtype\": \"date\",\n        \"min\": \"2017-01-01 03:47:00\",\n        \"max\": \"2017-11-27 09:40:00\",\n        \"num_unique_values\": 1996,\n        \"samples\": [\n          \"2017-07-13 11:29:00\",\n          \"2017-06-27 03:42:00\",\n          \"2017-06-07 23:08:00\"\n        ],\n        \"semantic_type\": \"\",\n        \"description\": \"\"\n      }\n    },\n    {\n      \"column\": \"cart_time\",\n      \"properties\": {\n        \"dtype\": \"date\",\n        \"min\": \"2017-01-01 03:58:00\",\n        \"max\": \"2017-11-27 08:54:00\",\n        \"num_unique_values\": 348,\n        \"samples\": [\n          \"2017-03-19 05:26:00\",\n          \"2017-03-04 08:32:00\",\n          \"2017-08-17 10:19:00\"\n        ],\n        \"semantic_type\": \"\",\n        \"description\": \"\"\n      }\n    },\n    {\n      \"column\": \"checkout_time\",\n      \"properties\": {\n        \"dtype\": \"date\",\n        \"min\": \"2017-01-04 05:32:00\",\n        \"max\": \"2017-11-27 09:18:00\",\n        \"num_unique_values\": 226,\n        \"samples\": [\n          \"2017-11-17 08:19:00\",\n          \"2017-07-22 09:35:00\",\n          \"2017-09-14 21:04:00\"\n        ],\n        \"semantic_type\": \"\",\n        \"description\": \"\"\n      }\n    },\n    {\n      \"column\": \"purchase_time\",\n      \"properties\": {\n        \"dtype\": \"date\",\n        \"min\": \"2017-01-05 02:45:00\",\n        \"max\": \"2017-11-24 05:38:00\",\n        \"num_unique_values\": 246,\n        \"samples\": [\n          \"2017-05-02 08:08:00\",\n          \"2017-05-14 11:36:00\",\n          \"2017-10-22 01:43:00\"\n        ],\n        \"semantic_type\": \"\",\n        \"description\": \"\"\n      }\n    },\n    {\n      \"column\": \"time_to_purchase\",\n      \"properties\": {\n        \"dtype\": \"timedelta64[ns]\",\n        \"num_unique_values\": 62,\n        \"samples\": [\n          \"0 days 00:30:00\",\n          \"0 days 00:13:00\",\n          \"0 days 00:44:00\"\n        ],\n        \"semantic_type\": \"\",\n        \"description\": \"\"\n      }\n    }\n  ]\n}"
            }
          },
          "metadata": {},
          "execution_count": 27
        }
      ],
      "source": [
        "funnel.head(10)"
      ]
    },
    {
      "cell_type": "markdown",
      "metadata": {
        "id": "KyxVdxijXMPn"
      },
      "source": [
        "Step 12: average time to purchase"
      ]
    },
    {
      "cell_type": "code",
      "execution_count": 28,
      "metadata": {
        "colab": {
          "base_uri": "https://localhost:8080/"
        },
        "id": "ko-3FM00XMPn",
        "outputId": "91a361ae-a459-4287-92f2-84ba853afc6a"
      },
      "outputs": [
        {
          "output_type": "execute_result",
          "data": {
            "text/plain": [
              "Timedelta('0 days 00:43:12.380952380')"
            ]
          },
          "metadata": {},
          "execution_count": 28
        }
      ],
      "source": [
        "funnel.time_to_purchase.mean()"
      ]
    }
  ],
  "metadata": {
    "kernelspec": {
      "display_name": "Python 3",
      "language": "python",
      "name": "python3"
    },
    "language_info": {
      "codemirror_mode": {
        "name": "ipython",
        "version": 3
      },
      "file_extension": ".py",
      "mimetype": "text/x-python",
      "name": "python",
      "nbconvert_exporter": "python",
      "pygments_lexer": "ipython3",
      "version": "3.8.5"
    },
    "colab": {
      "provenance": []
    }
  },
  "nbformat": 4,
  "nbformat_minor": 0
}