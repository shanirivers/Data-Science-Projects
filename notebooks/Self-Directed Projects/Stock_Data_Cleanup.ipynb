{
 "cells": [
  {
   "cell_type": "markdown",
   "id": "884a0be2",
   "metadata": {},
   "source": [
    "# Share Price Data Cleaning\n",
    "The purpose of this notebook is to show how I imported, cleaned and processed data from [SimFin](https://www.simfin.com/en/fundamental-data-download/) for my Stock Price Data analysis.\n",
    "\n",
    "I will:\n",
    "\n",
    "[Import the data.](#import-data)\n",
    "Once the data is imported, I will clean the data. This includes:\n",
    "1. [Edit columns](#column-edits) and prune columns, if needed\n",
    "1. [Handling missing values](#handling-missing-values). I will check for null values using `.isnull()` and fill them in using `.fillna()` \n",
    "\n",
    "3. [Check for duplicates](#check-for-duplicate-values). `.duplicated()` and removing the duplicates, by using `.drop_duplicates()`\n",
    "4. [Converting data types](#converting-data-types) by using `.astype()`\n",
    "5. [Filter data](#filter-data). Create a new dataframe containing only the tidy data\n",
    "5. [Create a new CSV](#create-new-csv-file). It will be created from the new, filtered dataframe from 2022 to use in my analysis."
   ]
  },
  {
   "cell_type": "markdown",
   "id": "ccba3552",
   "metadata": {},
   "source": [
    "## Import data"
   ]
  },
  {
   "cell_type": "code",
   "execution_count": 41,
   "id": "e93eef97-2582-442c-9936-020a5c5c4db7",
   "metadata": {},
   "outputs": [],
   "source": [
    "# libraries\n",
    "import pandas as pd\n",
    "import re"
   ]
  },
  {
   "cell_type": "code",
   "execution_count": 42,
   "id": "e886224e-a239-4f6d-9007-7dd153464447",
   "metadata": {},
   "outputs": [
    {
     "name": "stdout",
     "output_type": "stream",
     "text": [
      "CPU times: user 2.01 s, sys: 663 ms, total: 2.67 s\n",
      "Wall time: 2.94 s\n"
     ]
    },
    {
     "data": {
      "text/plain": [
       "5322568"
      ]
     },
     "execution_count": 42,
     "metadata": {},
     "output_type": "execute_result"
    }
   ],
   "source": [
    "%%time\n",
    "shares = pd.read_csv('us-shareprices-daily.csv', delimiter=';')\n",
    "len(shares)\n"
   ]
  },
  {
   "cell_type": "code",
   "execution_count": 43,
   "id": "f12bee23-3fc8-4868-9199-3735cb7f0ff9",
   "metadata": {},
   "outputs": [
    {
     "data": {
      "text/html": [
       "<div>\n",
       "<style scoped>\n",
       "    .dataframe tbody tr th:only-of-type {\n",
       "        vertical-align: middle;\n",
       "    }\n",
       "\n",
       "    .dataframe tbody tr th {\n",
       "        vertical-align: top;\n",
       "    }\n",
       "\n",
       "    .dataframe thead th {\n",
       "        text-align: right;\n",
       "    }\n",
       "</style>\n",
       "<table border=\"1\" class=\"dataframe\">\n",
       "  <thead>\n",
       "    <tr style=\"text-align: right;\">\n",
       "      <th></th>\n",
       "      <th>Ticker</th>\n",
       "      <th>SimFinId</th>\n",
       "      <th>Date</th>\n",
       "      <th>Open</th>\n",
       "      <th>High</th>\n",
       "      <th>Low</th>\n",
       "      <th>Close</th>\n",
       "      <th>Adj. Close</th>\n",
       "      <th>Volume</th>\n",
       "      <th>Dividend</th>\n",
       "      <th>Shares Outstanding</th>\n",
       "    </tr>\n",
       "  </thead>\n",
       "  <tbody>\n",
       "    <tr>\n",
       "      <th>0</th>\n",
       "      <td>A</td>\n",
       "      <td>45846</td>\n",
       "      <td>2018-08-07</td>\n",
       "      <td>66.83</td>\n",
       "      <td>67.94</td>\n",
       "      <td>66.63</td>\n",
       "      <td>67.66</td>\n",
       "      <td>64.78</td>\n",
       "      <td>2829039</td>\n",
       "      <td>NaN</td>\n",
       "      <td>319000000.0</td>\n",
       "    </tr>\n",
       "    <tr>\n",
       "      <th>1</th>\n",
       "      <td>A</td>\n",
       "      <td>45846</td>\n",
       "      <td>2018-08-08</td>\n",
       "      <td>67.74</td>\n",
       "      <td>68.15</td>\n",
       "      <td>67.34</td>\n",
       "      <td>67.38</td>\n",
       "      <td>64.51</td>\n",
       "      <td>1682000</td>\n",
       "      <td>NaN</td>\n",
       "      <td>319000000.0</td>\n",
       "    </tr>\n",
       "    <tr>\n",
       "      <th>2</th>\n",
       "      <td>A</td>\n",
       "      <td>45846</td>\n",
       "      <td>2018-08-09</td>\n",
       "      <td>67.48</td>\n",
       "      <td>67.62</td>\n",
       "      <td>66.61</td>\n",
       "      <td>66.69</td>\n",
       "      <td>63.85</td>\n",
       "      <td>1727776</td>\n",
       "      <td>NaN</td>\n",
       "      <td>319000000.0</td>\n",
       "    </tr>\n",
       "    <tr>\n",
       "      <th>3</th>\n",
       "      <td>A</td>\n",
       "      <td>45846</td>\n",
       "      <td>2018-08-10</td>\n",
       "      <td>66.82</td>\n",
       "      <td>66.87</td>\n",
       "      <td>65.93</td>\n",
       "      <td>66.26</td>\n",
       "      <td>63.44</td>\n",
       "      <td>2166251</td>\n",
       "      <td>NaN</td>\n",
       "      <td>319000000.0</td>\n",
       "    </tr>\n",
       "    <tr>\n",
       "      <th>4</th>\n",
       "      <td>A</td>\n",
       "      <td>45846</td>\n",
       "      <td>2018-08-13</td>\n",
       "      <td>66.44</td>\n",
       "      <td>66.99</td>\n",
       "      <td>65.67</td>\n",
       "      <td>65.94</td>\n",
       "      <td>63.13</td>\n",
       "      <td>2989306</td>\n",
       "      <td>NaN</td>\n",
       "      <td>319000000.0</td>\n",
       "    </tr>\n",
       "  </tbody>\n",
       "</table>\n",
       "</div>"
      ],
      "text/plain": [
       "  Ticker  SimFinId        Date   Open   High    Low  Close  Adj. Close  \\\n",
       "0      A     45846  2018-08-07  66.83  67.94  66.63  67.66       64.78   \n",
       "1      A     45846  2018-08-08  67.74  68.15  67.34  67.38       64.51   \n",
       "2      A     45846  2018-08-09  67.48  67.62  66.61  66.69       63.85   \n",
       "3      A     45846  2018-08-10  66.82  66.87  65.93  66.26       63.44   \n",
       "4      A     45846  2018-08-13  66.44  66.99  65.67  65.94       63.13   \n",
       "\n",
       "    Volume  Dividend  Shares Outstanding  \n",
       "0  2829039       NaN         319000000.0  \n",
       "1  1682000       NaN         319000000.0  \n",
       "2  1727776       NaN         319000000.0  \n",
       "3  2166251       NaN         319000000.0  \n",
       "4  2989306       NaN         319000000.0  "
      ]
     },
     "execution_count": 43,
     "metadata": {},
     "output_type": "execute_result"
    }
   ],
   "source": [
    "# Get a quick overview\n",
    "shares.head()"
   ]
  },
  {
   "cell_type": "code",
   "execution_count": 44,
   "id": "21a4448b-c278-43a0-bb4e-3d626bf26bc1",
   "metadata": {},
   "outputs": [
    {
     "name": "stdout",
     "output_type": "stream",
     "text": [
      "<class 'pandas.core.frame.DataFrame'>\n",
      "RangeIndex: 5322568 entries, 0 to 5322567\n",
      "Data columns (total 11 columns):\n",
      " #   Column              Dtype  \n",
      "---  ------              -----  \n",
      " 0   Ticker              object \n",
      " 1   SimFinId            int64  \n",
      " 2   Date                object \n",
      " 3   Open                float64\n",
      " 4   High                float64\n",
      " 5   Low                 float64\n",
      " 6   Close               float64\n",
      " 7   Adj. Close          float64\n",
      " 8   Volume              int64  \n",
      " 9   Dividend            float64\n",
      " 10  Shares Outstanding  float64\n",
      "dtypes: float64(7), int64(2), object(2)\n",
      "memory usage: 1013.4 MB\n"
     ]
    }
   ],
   "source": [
    "# Get detailed information about the DataFrame shares\n",
    "shares.info(verbose=True, memory_usage='deep')"
   ]
  },
  {
   "cell_type": "markdown",
   "id": "9054858a",
   "metadata": {},
   "source": [
    "## Column Edits"
   ]
  },
  {
   "cell_type": "markdown",
   "id": "c4770ff6",
   "metadata": {},
   "source": [
    "Changed the column names to be easier to work with, removing uppercase letters and replacing spaces with underscores. Create a method that uses regex to remove any punctuation and built-in `lower()` function to change all the columns at once. "
   ]
  },
  {
   "cell_type": "code",
   "execution_count": 45,
   "id": "721cf0ee",
   "metadata": {},
   "outputs": [],
   "source": [
    "def edit_column_names(df):\n",
    "    col_dict = {}\n",
    "    for col in df.columns:\n",
    "        col_edit = col.lower()\n",
    "        col_edit = re.sub(r'[^a-zA-Z0-9\\s]', '', col_edit).replace(' ', '_')\n",
    "        col_dict[col] = col_edit\n",
    "    df = df.rename(columns=col_dict)\n",
    "    return df\n",
    "\n",
    "shares = edit_column_names(shares)"
   ]
  },
  {
   "cell_type": "code",
   "execution_count": 46,
   "id": "57037c48",
   "metadata": {
    "vscode": {
     "languageId": "javascript"
    }
   },
   "outputs": [
    {
     "name": "stdout",
     "output_type": "stream",
     "text": [
      "<class 'pandas.core.frame.DataFrame'>\n",
      "RangeIndex: 5322568 entries, 0 to 5322567\n",
      "Data columns (total 11 columns):\n",
      " #   Column              Dtype  \n",
      "---  ------              -----  \n",
      " 0   ticker              object \n",
      " 1   simfinid            int64  \n",
      " 2   date                object \n",
      " 3   open                float64\n",
      " 4   high                float64\n",
      " 5   low                 float64\n",
      " 6   close               float64\n",
      " 7   adj_close           float64\n",
      " 8   volume              int64  \n",
      " 9   dividend            float64\n",
      " 10  shares_outstanding  float64\n",
      "dtypes: float64(7), int64(2), object(2)\n",
      "memory usage: 446.7+ MB\n"
     ]
    }
   ],
   "source": [
    "shares.info()\n"
   ]
  },
  {
   "cell_type": "markdown",
   "id": "95a5c021",
   "metadata": {},
   "source": [
    "## Handling missing values"
   ]
  },
  {
   "cell_type": "markdown",
   "id": "0131d04f",
   "metadata": {},
   "source": [
    "Investigate how many records are there for each column and the percentages of missing values, if there are any."
   ]
  },
  {
   "cell_type": "code",
   "execution_count": 47,
   "id": "0d8e6367",
   "metadata": {},
   "outputs": [
    {
     "data": {
      "text/plain": [
       "ticker                      0\n",
       "simfinid                    0\n",
       "date                        0\n",
       "open                        0\n",
       "high                        0\n",
       "low                         0\n",
       "close                       0\n",
       "adj_close                   0\n",
       "volume                      0\n",
       "dividend              5288387\n",
       "shares_outstanding     380181\n",
       "dtype: int64"
      ]
     },
     "execution_count": 47,
     "metadata": {},
     "output_type": "execute_result"
    }
   ],
   "source": [
    "# number of null values\n",
    "shares.isnull().sum()"
   ]
  },
  {
   "cell_type": "markdown",
   "id": "85b47104",
   "metadata": {},
   "source": [
    "Determine the percentage of missing values in Dividend and Shares Outstanding column, to determine if they are above 60%."
   ]
  },
  {
   "cell_type": "code",
   "execution_count": 48,
   "id": "ab8768b0",
   "metadata": {},
   "outputs": [
    {
     "name": "stdout",
     "output_type": "stream",
     "text": [
      "Percentage of missing records: \n"
     ]
    },
    {
     "data": {
      "text/plain": [
       "ticker                 0.000000\n",
       "simfinid               0.000000\n",
       "date                   0.000000\n",
       "open                   0.000000\n",
       "high                   0.000000\n",
       "low                    0.000000\n",
       "close                  0.000000\n",
       "adj_close              0.000000\n",
       "volume                 0.000000\n",
       "dividend              99.357810\n",
       "shares_outstanding     7.142812\n",
       "dtype: float64"
      ]
     },
     "execution_count": 48,
     "metadata": {},
     "output_type": "execute_result"
    }
   ],
   "source": [
    "print('Percentage of missing records: ')\n",
    "missing_percentage = shares.isnull().sum() / len(shares) * 100\n",
    "missing_percentage"
   ]
  },
  {
   "cell_type": "markdown",
   "id": "4434f238",
   "metadata": {},
   "source": [
    "Since 99% of the data for the Dividend column is missing and I do not need the data in it for my analysis, I will go ahead and remove it from the dataframe. "
   ]
  },
  {
   "cell_type": "code",
   "execution_count": 49,
   "id": "36fe6f8d",
   "metadata": {},
   "outputs": [],
   "source": [
    "shares = shares.drop(columns='dividend', axis=0)\n"
   ]
  },
  {
   "cell_type": "code",
   "execution_count": 50,
   "id": "48f85f23",
   "metadata": {},
   "outputs": [
    {
     "name": "stdout",
     "output_type": "stream",
     "text": [
      "<class 'pandas.core.frame.DataFrame'>\n",
      "RangeIndex: 5322568 entries, 0 to 5322567\n",
      "Data columns (total 10 columns):\n",
      " #   Column              Dtype  \n",
      "---  ------              -----  \n",
      " 0   ticker              object \n",
      " 1   simfinid            int64  \n",
      " 2   date                object \n",
      " 3   open                float64\n",
      " 4   high                float64\n",
      " 5   low                 float64\n",
      " 6   close               float64\n",
      " 7   adj_close           float64\n",
      " 8   volume              int64  \n",
      " 9   shares_outstanding  float64\n",
      "dtypes: float64(6), int64(2), object(2)\n",
      "memory usage: 406.1+ MB\n"
     ]
    }
   ],
   "source": [
    "shares.info()"
   ]
  },
  {
   "cell_type": "markdown",
   "id": "f991d650",
   "metadata": {},
   "source": [
    "The dividend column has been removed. Now, I will check to see how many missing values there are now."
   ]
  },
  {
   "cell_type": "code",
   "execution_count": 51,
   "id": "e1140efb",
   "metadata": {},
   "outputs": [
    {
     "data": {
      "text/plain": [
       "ticker                     0\n",
       "simfinid                   0\n",
       "date                       0\n",
       "open                       0\n",
       "high                       0\n",
       "low                        0\n",
       "close                      0\n",
       "adj_close                  0\n",
       "volume                     0\n",
       "shares_outstanding    380181\n",
       "dtype: int64"
      ]
     },
     "execution_count": 51,
     "metadata": {},
     "output_type": "execute_result"
    }
   ],
   "source": [
    "shares.isnull().sum()"
   ]
  },
  {
   "cell_type": "markdown",
   "id": "27221f95-8291-4933-a6c6-2ae89b766279",
   "metadata": {},
   "source": [
    "Since the Dividend column contained a lot of null values. I do not need it or the SimFinId for my analysis so I will define the columns I do want by adding them to a list that will use in the option, `usecols=required_cols`, and include it in the `read_csv` call for the final dataframe and when I create my future dataset imports. "
   ]
  },
  {
   "cell_type": "code",
   "execution_count": null,
   "id": "23cbef35-e1b3-4b4d-b0af-68ea4f79c629",
   "metadata": {},
   "outputs": [],
   "source": [
    "# Define the required columns for the data\n",
    "required_cols = ['Ticker', 'Date', 'Open', 'High', 'Low', 'Close', 'Volume', 'Shares Outstanding']"
   ]
  },
  {
   "cell_type": "code",
   "execution_count": 52,
   "id": "45f80b65",
   "metadata": {},
   "outputs": [
    {
     "name": "stdout",
     "output_type": "stream",
     "text": [
      "['AAC' 'AAWH' 'ABTI' ... 'ZI' 'ZIP' 'ZIVO']\n"
     ]
    }
   ],
   "source": [
    "# check if there are any empty values in the dataframe\n",
    "tickers_nullshares = shares.loc[shares['shares_outstanding'].isnull(), 'ticker'].unique()\n",
    "print(tickers_nullshares)"
   ]
  },
  {
   "cell_type": "markdown",
   "id": "2de55df4",
   "metadata": {},
   "source": [
    "I will leave the Shares Outstanding column alone for now and just keep the null values in place. "
   ]
  },
  {
   "cell_type": "code",
   "execution_count": 53,
   "id": "658665f2-e2ed-4154-a773-d3b91f6997ca",
   "metadata": {},
   "outputs": [
    {
     "name": "stdout",
     "output_type": "stream",
     "text": [
      "<class 'pandas.core.frame.DataFrame'>\n",
      "RangeIndex: 5322568 entries, 0 to 5322567\n",
      "Data columns (total 10 columns):\n",
      " #   Column              Dtype  \n",
      "---  ------              -----  \n",
      " 0   ticker              object \n",
      " 1   simfinid            int64  \n",
      " 2   date                object \n",
      " 3   open                float64\n",
      " 4   high                float64\n",
      " 5   low                 float64\n",
      " 6   close               float64\n",
      " 7   adj_close           float64\n",
      " 8   volume              int64  \n",
      " 9   shares_outstanding  float64\n",
      "dtypes: float64(6), int64(2), object(2)\n",
      "memory usage: 972.8 MB\n"
     ]
    }
   ],
   "source": [
    "# Check info to see if it is dropped\n",
    "shares.info(verbose=True, memory_usage='deep')"
   ]
  },
  {
   "cell_type": "markdown",
   "id": "40469ab2-0c69-4a86-9e10-84bcd0f12c5c",
   "metadata": {},
   "source": [
    "## Check for duplicate values "
   ]
  },
  {
   "cell_type": "code",
   "execution_count": 54,
   "id": "f665b720-44c6-4d7a-b91a-30c9262a058d",
   "metadata": {},
   "outputs": [
    {
     "data": {
      "text/html": [
       "<div>\n",
       "<style scoped>\n",
       "    .dataframe tbody tr th:only-of-type {\n",
       "        vertical-align: middle;\n",
       "    }\n",
       "\n",
       "    .dataframe tbody tr th {\n",
       "        vertical-align: top;\n",
       "    }\n",
       "\n",
       "    .dataframe thead th {\n",
       "        text-align: right;\n",
       "    }\n",
       "</style>\n",
       "<table border=\"1\" class=\"dataframe\">\n",
       "  <thead>\n",
       "    <tr style=\"text-align: right;\">\n",
       "      <th></th>\n",
       "      <th>ticker</th>\n",
       "      <th>simfinid</th>\n",
       "      <th>date</th>\n",
       "      <th>open</th>\n",
       "      <th>high</th>\n",
       "      <th>low</th>\n",
       "      <th>close</th>\n",
       "      <th>adj_close</th>\n",
       "      <th>volume</th>\n",
       "      <th>shares_outstanding</th>\n",
       "      <th>size</th>\n",
       "    </tr>\n",
       "  </thead>\n",
       "  <tbody>\n",
       "    <tr>\n",
       "      <th>0</th>\n",
       "      <td>A</td>\n",
       "      <td>45846</td>\n",
       "      <td>2018-08-07</td>\n",
       "      <td>66.83</td>\n",
       "      <td>67.94</td>\n",
       "      <td>66.63</td>\n",
       "      <td>67.66</td>\n",
       "      <td>64.78</td>\n",
       "      <td>2829039</td>\n",
       "      <td>319000000.0</td>\n",
       "      <td>1</td>\n",
       "    </tr>\n",
       "    <tr>\n",
       "      <th>1</th>\n",
       "      <td>A</td>\n",
       "      <td>45846</td>\n",
       "      <td>2018-08-08</td>\n",
       "      <td>67.74</td>\n",
       "      <td>68.15</td>\n",
       "      <td>67.34</td>\n",
       "      <td>67.38</td>\n",
       "      <td>64.51</td>\n",
       "      <td>1682000</td>\n",
       "      <td>319000000.0</td>\n",
       "      <td>1</td>\n",
       "    </tr>\n",
       "    <tr>\n",
       "      <th>2</th>\n",
       "      <td>A</td>\n",
       "      <td>45846</td>\n",
       "      <td>2018-08-09</td>\n",
       "      <td>67.48</td>\n",
       "      <td>67.62</td>\n",
       "      <td>66.61</td>\n",
       "      <td>66.69</td>\n",
       "      <td>63.85</td>\n",
       "      <td>1727776</td>\n",
       "      <td>319000000.0</td>\n",
       "      <td>1</td>\n",
       "    </tr>\n",
       "    <tr>\n",
       "      <th>3</th>\n",
       "      <td>A</td>\n",
       "      <td>45846</td>\n",
       "      <td>2018-08-10</td>\n",
       "      <td>66.82</td>\n",
       "      <td>66.87</td>\n",
       "      <td>65.93</td>\n",
       "      <td>66.26</td>\n",
       "      <td>63.44</td>\n",
       "      <td>2166251</td>\n",
       "      <td>319000000.0</td>\n",
       "      <td>1</td>\n",
       "    </tr>\n",
       "    <tr>\n",
       "      <th>4</th>\n",
       "      <td>A</td>\n",
       "      <td>45846</td>\n",
       "      <td>2018-08-13</td>\n",
       "      <td>66.44</td>\n",
       "      <td>66.99</td>\n",
       "      <td>65.67</td>\n",
       "      <td>65.94</td>\n",
       "      <td>63.13</td>\n",
       "      <td>2989306</td>\n",
       "      <td>319000000.0</td>\n",
       "      <td>1</td>\n",
       "    </tr>\n",
       "    <tr>\n",
       "      <th>...</th>\n",
       "      <td>...</td>\n",
       "      <td>...</td>\n",
       "      <td>...</td>\n",
       "      <td>...</td>\n",
       "      <td>...</td>\n",
       "      <td>...</td>\n",
       "      <td>...</td>\n",
       "      <td>...</td>\n",
       "      <td>...</td>\n",
       "      <td>...</td>\n",
       "      <td>...</td>\n",
       "    </tr>\n",
       "    <tr>\n",
       "      <th>4942382</th>\n",
       "      <td>ZYXI</td>\n",
       "      <td>171401</td>\n",
       "      <td>2023-07-05</td>\n",
       "      <td>9.50</td>\n",
       "      <td>9.54</td>\n",
       "      <td>9.15</td>\n",
       "      <td>9.17</td>\n",
       "      <td>9.17</td>\n",
       "      <td>215455</td>\n",
       "      <td>36435000.0</td>\n",
       "      <td>1</td>\n",
       "    </tr>\n",
       "    <tr>\n",
       "      <th>4942383</th>\n",
       "      <td>ZYXI</td>\n",
       "      <td>171401</td>\n",
       "      <td>2023-07-06</td>\n",
       "      <td>9.02</td>\n",
       "      <td>9.18</td>\n",
       "      <td>8.93</td>\n",
       "      <td>9.01</td>\n",
       "      <td>9.01</td>\n",
       "      <td>191404</td>\n",
       "      <td>36435000.0</td>\n",
       "      <td>1</td>\n",
       "    </tr>\n",
       "    <tr>\n",
       "      <th>4942384</th>\n",
       "      <td>ZYXI</td>\n",
       "      <td>171401</td>\n",
       "      <td>2023-07-07</td>\n",
       "      <td>9.03</td>\n",
       "      <td>9.29</td>\n",
       "      <td>8.94</td>\n",
       "      <td>9.00</td>\n",
       "      <td>9.00</td>\n",
       "      <td>291326</td>\n",
       "      <td>36435000.0</td>\n",
       "      <td>1</td>\n",
       "    </tr>\n",
       "    <tr>\n",
       "      <th>4942385</th>\n",
       "      <td>ZYXI</td>\n",
       "      <td>171401</td>\n",
       "      <td>2023-07-10</td>\n",
       "      <td>9.00</td>\n",
       "      <td>9.23</td>\n",
       "      <td>8.99</td>\n",
       "      <td>9.18</td>\n",
       "      <td>9.18</td>\n",
       "      <td>148425</td>\n",
       "      <td>36435000.0</td>\n",
       "      <td>1</td>\n",
       "    </tr>\n",
       "    <tr>\n",
       "      <th>4942386</th>\n",
       "      <td>ZYXI</td>\n",
       "      <td>171401</td>\n",
       "      <td>2023-07-11</td>\n",
       "      <td>9.08</td>\n",
       "      <td>9.34</td>\n",
       "      <td>8.98</td>\n",
       "      <td>9.06</td>\n",
       "      <td>9.06</td>\n",
       "      <td>173802</td>\n",
       "      <td>36435000.0</td>\n",
       "      <td>1</td>\n",
       "    </tr>\n",
       "  </tbody>\n",
       "</table>\n",
       "<p>4942387 rows × 11 columns</p>\n",
       "</div>"
      ],
      "text/plain": [
       "        ticker  simfinid        date   open   high    low  close  adj_close  \\\n",
       "0            A     45846  2018-08-07  66.83  67.94  66.63  67.66      64.78   \n",
       "1            A     45846  2018-08-08  67.74  68.15  67.34  67.38      64.51   \n",
       "2            A     45846  2018-08-09  67.48  67.62  66.61  66.69      63.85   \n",
       "3            A     45846  2018-08-10  66.82  66.87  65.93  66.26      63.44   \n",
       "4            A     45846  2018-08-13  66.44  66.99  65.67  65.94      63.13   \n",
       "...        ...       ...         ...    ...    ...    ...    ...        ...   \n",
       "4942382   ZYXI    171401  2023-07-05   9.50   9.54   9.15   9.17       9.17   \n",
       "4942383   ZYXI    171401  2023-07-06   9.02   9.18   8.93   9.01       9.01   \n",
       "4942384   ZYXI    171401  2023-07-07   9.03   9.29   8.94   9.00       9.00   \n",
       "4942385   ZYXI    171401  2023-07-10   9.00   9.23   8.99   9.18       9.18   \n",
       "4942386   ZYXI    171401  2023-07-11   9.08   9.34   8.98   9.06       9.06   \n",
       "\n",
       "          volume  shares_outstanding  size  \n",
       "0        2829039         319000000.0     1  \n",
       "1        1682000         319000000.0     1  \n",
       "2        1727776         319000000.0     1  \n",
       "3        2166251         319000000.0     1  \n",
       "4        2989306         319000000.0     1  \n",
       "...          ...                 ...   ...  \n",
       "4942382   215455          36435000.0     1  \n",
       "4942383   191404          36435000.0     1  \n",
       "4942384   291326          36435000.0     1  \n",
       "4942385   148425          36435000.0     1  \n",
       "4942386   173802          36435000.0     1  \n",
       "\n",
       "[4942387 rows x 11 columns]"
      ]
     },
     "execution_count": 54,
     "metadata": {},
     "output_type": "execute_result"
    }
   ],
   "source": [
    "# shares.duplicated().sum()\n",
    "shares.groupby(shares.columns.tolist(),as_index=False).size()"
   ]
  },
  {
   "cell_type": "markdown",
   "id": "28dd0081-4f48-407e-8c86-0d65962b8b0e",
   "metadata": {},
   "source": [
    "Determine if there are duplicates."
   ]
  },
  {
   "cell_type": "code",
   "execution_count": 55,
   "id": "046999d2-f5a7-49f8-ba1f-88e42d0050c9",
   "metadata": {},
   "outputs": [
    {
     "name": "stdout",
     "output_type": "stream",
     "text": [
      "Empty DataFrame\n",
      "Columns: [ticker, simfinid, date, open, high, low, close, adj_close, volume, shares_outstanding]\n",
      "Index: []\n"
     ]
    }
   ],
   "source": [
    "duplicates = shares[shares.duplicated()] \n",
    "print(duplicates)"
   ]
  },
  {
   "cell_type": "markdown",
   "id": "59a4be12-1a08-49dd-bc23-f7911a03c14e",
   "metadata": {},
   "source": [
    "There are no duplicates in the dataset."
   ]
  },
  {
   "cell_type": "markdown",
   "id": "08e3f4fb-ba51-41c1-93d2-fe3665f771cc",
   "metadata": {},
   "source": [
    "## Converting data types\n",
    "Define what data types will be best so that they don't use too much memory."
   ]
  },
  {
   "cell_type": "code",
   "execution_count": 56,
   "id": "28ab03bb-90e1-41d9-9402-983fd67688fc",
   "metadata": {},
   "outputs": [
    {
     "name": "stdout",
     "output_type": "stream",
     "text": [
      "<class 'pandas.core.frame.DataFrame'>\n",
      "RangeIndex: 5322568 entries, 0 to 5322567\n",
      "Data columns (total 10 columns):\n",
      " #   Column              Dtype  \n",
      "---  ------              -----  \n",
      " 0   ticker              object \n",
      " 1   simfinid            int64  \n",
      " 2   date                object \n",
      " 3   open                float64\n",
      " 4   high                float64\n",
      " 5   low                 float64\n",
      " 6   close               float64\n",
      " 7   adj_close           float64\n",
      " 8   volume              int64  \n",
      " 9   shares_outstanding  float64\n",
      "dtypes: float64(6), int64(2), object(2)\n",
      "memory usage: 406.1+ MB\n"
     ]
    }
   ],
   "source": [
    "shares.info()"
   ]
  },
  {
   "cell_type": "markdown",
   "id": "11f5f67d-c04f-4d8e-8fc8-7d7eb463bc7a",
   "metadata": {},
   "source": [
    "I tried to change the float64 and int64 down to float16 and int16, but this was too low and adversely affected the data so I reloaded the dataset again and found that float32 and int32, worked best. \n",
    "\n",
    "I will change the float and int datatypes to float32 and int32, respectively, and the tickers to category. I changed the Date column manually, but when I bring in the dataset again, I will use `parse_date()` option on the `read_csv` call."
   ]
  },
  {
   "cell_type": "code",
   "execution_count": 57,
   "id": "c21c84ff-587b-410e-807f-b907102113bf",
   "metadata": {},
   "outputs": [
    {
     "name": "stdout",
     "output_type": "stream",
     "text": [
      "<class 'pandas.core.frame.DataFrame'>\n",
      "RangeIndex: 5322568 entries, 0 to 5322567\n",
      "Data columns (total 10 columns):\n",
      " #   Column              Dtype         \n",
      "---  ------              -----         \n",
      " 0   ticker              object        \n",
      " 1   simfinid            int32         \n",
      " 2   date                datetime64[ns]\n",
      " 3   open                float32       \n",
      " 4   high                float32       \n",
      " 5   low                 float32       \n",
      " 6   close               float32       \n",
      " 7   adj_close           float32       \n",
      " 8   volume              int32         \n",
      " 9   shares_outstanding  float32       \n",
      "dtypes: datetime64[ns](1), float32(6), int32(2), object(1)\n",
      "memory usage: 243.6+ MB\n"
     ]
    }
   ],
   "source": [
    "for col in shares.columns:\n",
    "    if shares[col].dtype == 'float64':\n",
    "        shares[col] = shares[col].astype('float32')\n",
    "    if shares[col].dtype == 'int64':\n",
    "        shares[col] = shares[col].astype('int32')\n",
    "    if shares[col].dtype == 'object' and shares[col].name == 'Ticker':\n",
    "        shares[col] = shares[col].astype('category')\n",
    "    if shares[col].name == 'date':\n",
    "        shares[col] = shares[col].astype('datetime64[ns]')\n",
    "\n",
    "shares.info()"
   ]
  },
  {
   "cell_type": "markdown",
   "id": "c009acb9-3e0a-4d89-adf6-ccc104e993d3",
   "metadata": {},
   "source": [
    "The code above loops through the columns and changes the type. The memory usage dropped.\n",
    "\n",
    "Run `.head()` and `.describe` again to see if changing the types did anything adversely to the data."
   ]
  },
  {
   "cell_type": "code",
   "execution_count": 58,
   "id": "6143fef5-968d-4bac-b743-51093e88cbea",
   "metadata": {},
   "outputs": [
    {
     "data": {
      "text/html": [
       "<div>\n",
       "<style scoped>\n",
       "    .dataframe tbody tr th:only-of-type {\n",
       "        vertical-align: middle;\n",
       "    }\n",
       "\n",
       "    .dataframe tbody tr th {\n",
       "        vertical-align: top;\n",
       "    }\n",
       "\n",
       "    .dataframe thead th {\n",
       "        text-align: right;\n",
       "    }\n",
       "</style>\n",
       "<table border=\"1\" class=\"dataframe\">\n",
       "  <thead>\n",
       "    <tr style=\"text-align: right;\">\n",
       "      <th></th>\n",
       "      <th>ticker</th>\n",
       "      <th>simfinid</th>\n",
       "      <th>date</th>\n",
       "      <th>open</th>\n",
       "      <th>high</th>\n",
       "      <th>low</th>\n",
       "      <th>close</th>\n",
       "      <th>adj_close</th>\n",
       "      <th>volume</th>\n",
       "      <th>shares_outstanding</th>\n",
       "    </tr>\n",
       "  </thead>\n",
       "  <tbody>\n",
       "    <tr>\n",
       "      <th>0</th>\n",
       "      <td>A</td>\n",
       "      <td>45846</td>\n",
       "      <td>2018-08-07</td>\n",
       "      <td>66.830002</td>\n",
       "      <td>67.940002</td>\n",
       "      <td>66.629997</td>\n",
       "      <td>67.660004</td>\n",
       "      <td>64.779999</td>\n",
       "      <td>2829039</td>\n",
       "      <td>319000000.0</td>\n",
       "    </tr>\n",
       "    <tr>\n",
       "      <th>1</th>\n",
       "      <td>A</td>\n",
       "      <td>45846</td>\n",
       "      <td>2018-08-08</td>\n",
       "      <td>67.739998</td>\n",
       "      <td>68.150002</td>\n",
       "      <td>67.339996</td>\n",
       "      <td>67.379997</td>\n",
       "      <td>64.510002</td>\n",
       "      <td>1682000</td>\n",
       "      <td>319000000.0</td>\n",
       "    </tr>\n",
       "    <tr>\n",
       "      <th>2</th>\n",
       "      <td>A</td>\n",
       "      <td>45846</td>\n",
       "      <td>2018-08-09</td>\n",
       "      <td>67.480003</td>\n",
       "      <td>67.620003</td>\n",
       "      <td>66.610001</td>\n",
       "      <td>66.690002</td>\n",
       "      <td>63.849998</td>\n",
       "      <td>1727776</td>\n",
       "      <td>319000000.0</td>\n",
       "    </tr>\n",
       "    <tr>\n",
       "      <th>3</th>\n",
       "      <td>A</td>\n",
       "      <td>45846</td>\n",
       "      <td>2018-08-10</td>\n",
       "      <td>66.820000</td>\n",
       "      <td>66.870003</td>\n",
       "      <td>65.930000</td>\n",
       "      <td>66.260002</td>\n",
       "      <td>63.439999</td>\n",
       "      <td>2166251</td>\n",
       "      <td>319000000.0</td>\n",
       "    </tr>\n",
       "    <tr>\n",
       "      <th>4</th>\n",
       "      <td>A</td>\n",
       "      <td>45846</td>\n",
       "      <td>2018-08-13</td>\n",
       "      <td>66.440002</td>\n",
       "      <td>66.989998</td>\n",
       "      <td>65.669998</td>\n",
       "      <td>65.940002</td>\n",
       "      <td>63.130001</td>\n",
       "      <td>2989306</td>\n",
       "      <td>319000000.0</td>\n",
       "    </tr>\n",
       "  </tbody>\n",
       "</table>\n",
       "</div>"
      ],
      "text/plain": [
       "  ticker  simfinid       date       open       high        low      close  \\\n",
       "0      A     45846 2018-08-07  66.830002  67.940002  66.629997  67.660004   \n",
       "1      A     45846 2018-08-08  67.739998  68.150002  67.339996  67.379997   \n",
       "2      A     45846 2018-08-09  67.480003  67.620003  66.610001  66.690002   \n",
       "3      A     45846 2018-08-10  66.820000  66.870003  65.930000  66.260002   \n",
       "4      A     45846 2018-08-13  66.440002  66.989998  65.669998  65.940002   \n",
       "\n",
       "   adj_close   volume  shares_outstanding  \n",
       "0  64.779999  2829039         319000000.0  \n",
       "1  64.510002  1682000         319000000.0  \n",
       "2  63.849998  1727776         319000000.0  \n",
       "3  63.439999  2166251         319000000.0  \n",
       "4  63.130001  2989306         319000000.0  "
      ]
     },
     "execution_count": 58,
     "metadata": {},
     "output_type": "execute_result"
    }
   ],
   "source": [
    "shares.head()"
   ]
  },
  {
   "cell_type": "code",
   "execution_count": 59,
   "id": "5bfab742-4ad5-475f-af40-e7b62953c643",
   "metadata": {},
   "outputs": [
    {
     "data": {
      "text/html": [
       "<div>\n",
       "<style scoped>\n",
       "    .dataframe tbody tr th:only-of-type {\n",
       "        vertical-align: middle;\n",
       "    }\n",
       "\n",
       "    .dataframe tbody tr th {\n",
       "        vertical-align: top;\n",
       "    }\n",
       "\n",
       "    .dataframe thead th {\n",
       "        text-align: right;\n",
       "    }\n",
       "</style>\n",
       "<table border=\"1\" class=\"dataframe\">\n",
       "  <thead>\n",
       "    <tr style=\"text-align: right;\">\n",
       "      <th></th>\n",
       "      <th>simfinid</th>\n",
       "      <th>date</th>\n",
       "      <th>open</th>\n",
       "      <th>high</th>\n",
       "      <th>low</th>\n",
       "      <th>close</th>\n",
       "      <th>adj_close</th>\n",
       "      <th>volume</th>\n",
       "      <th>shares_outstanding</th>\n",
       "    </tr>\n",
       "  </thead>\n",
       "  <tbody>\n",
       "    <tr>\n",
       "      <th>count</th>\n",
       "      <td>5.322568e+06</td>\n",
       "      <td>5322568</td>\n",
       "      <td>5.322568e+06</td>\n",
       "      <td>5.322568e+06</td>\n",
       "      <td>5.322568e+06</td>\n",
       "      <td>5.322568e+06</td>\n",
       "      <td>5.322568e+06</td>\n",
       "      <td>5.322568e+06</td>\n",
       "      <td>4.942387e+06</td>\n",
       "    </tr>\n",
       "    <tr>\n",
       "      <th>mean</th>\n",
       "      <td>4.779305e+06</td>\n",
       "      <td>2021-02-25 05:37:53.133722112</td>\n",
       "      <td>5.433233e+02</td>\n",
       "      <td>5.623159e+02</td>\n",
       "      <td>5.113192e+02</td>\n",
       "      <td>5.358393e+02</td>\n",
       "      <td>5.238233e+02</td>\n",
       "      <td>1.694702e+06</td>\n",
       "      <td>2.605400e+08</td>\n",
       "    </tr>\n",
       "    <tr>\n",
       "      <th>min</th>\n",
       "      <td>1.800000e+01</td>\n",
       "      <td>2018-08-07 00:00:00</td>\n",
       "      <td>0.000000e+00</td>\n",
       "      <td>0.000000e+00</td>\n",
       "      <td>0.000000e+00</td>\n",
       "      <td>0.000000e+00</td>\n",
       "      <td>0.000000e+00</td>\n",
       "      <td>-2.125784e+09</td>\n",
       "      <td>0.000000e+00</td>\n",
       "    </tr>\n",
       "    <tr>\n",
       "      <th>25%</th>\n",
       "      <td>4.983910e+05</td>\n",
       "      <td>2019-12-10 00:00:00</td>\n",
       "      <td>8.880000e+00</td>\n",
       "      <td>9.110000e+00</td>\n",
       "      <td>8.620000e+00</td>\n",
       "      <td>8.860000e+00</td>\n",
       "      <td>8.320000e+00</td>\n",
       "      <td>4.277800e+04</td>\n",
       "      <td>1.893059e+07</td>\n",
       "    </tr>\n",
       "    <tr>\n",
       "      <th>50%</th>\n",
       "      <td>1.108872e+06</td>\n",
       "      <td>2021-03-23 00:00:00</td>\n",
       "      <td>2.210000e+01</td>\n",
       "      <td>2.255000e+01</td>\n",
       "      <td>2.164000e+01</td>\n",
       "      <td>2.208000e+01</td>\n",
       "      <td>2.053000e+01</td>\n",
       "      <td>2.607500e+05</td>\n",
       "      <td>4.901730e+07</td>\n",
       "    </tr>\n",
       "    <tr>\n",
       "      <th>75%</th>\n",
       "      <td>1.038350e+07</td>\n",
       "      <td>2022-05-17 00:00:00</td>\n",
       "      <td>5.401000e+01</td>\n",
       "      <td>5.499000e+01</td>\n",
       "      <td>5.303000e+01</td>\n",
       "      <td>5.400000e+01</td>\n",
       "      <td>5.090000e+01</td>\n",
       "      <td>9.620678e+05</td>\n",
       "      <td>1.283296e+08</td>\n",
       "    </tr>\n",
       "    <tr>\n",
       "      <th>max</th>\n",
       "      <td>1.566500e+07</td>\n",
       "      <td>2023-07-11 00:00:00</td>\n",
       "      <td>1.200000e+07</td>\n",
       "      <td>1.200000e+07</td>\n",
       "      <td>1.200000e+07</td>\n",
       "      <td>1.200000e+07</td>\n",
       "      <td>1.200000e+07</td>\n",
       "      <td>2.146534e+09</td>\n",
       "      <td>1.121052e+12</td>\n",
       "    </tr>\n",
       "    <tr>\n",
       "      <th>std</th>\n",
       "      <td>5.219623e+06</td>\n",
       "      <td>NaN</td>\n",
       "      <td>4.522812e+04</td>\n",
       "      <td>4.700781e+04</td>\n",
       "      <td>4.163399e+04</td>\n",
       "      <td>4.443310e+04</td>\n",
       "      <td>4.440703e+04</td>\n",
       "      <td>1.609591e+07</td>\n",
       "      <td>5.484785e+09</td>\n",
       "    </tr>\n",
       "  </tbody>\n",
       "</table>\n",
       "</div>"
      ],
      "text/plain": [
       "           simfinid                           date          open  \\\n",
       "count  5.322568e+06                        5322568  5.322568e+06   \n",
       "mean   4.779305e+06  2021-02-25 05:37:53.133722112  5.433233e+02   \n",
       "min    1.800000e+01            2018-08-07 00:00:00  0.000000e+00   \n",
       "25%    4.983910e+05            2019-12-10 00:00:00  8.880000e+00   \n",
       "50%    1.108872e+06            2021-03-23 00:00:00  2.210000e+01   \n",
       "75%    1.038350e+07            2022-05-17 00:00:00  5.401000e+01   \n",
       "max    1.566500e+07            2023-07-11 00:00:00  1.200000e+07   \n",
       "std    5.219623e+06                            NaN  4.522812e+04   \n",
       "\n",
       "               high           low         close     adj_close        volume  \\\n",
       "count  5.322568e+06  5.322568e+06  5.322568e+06  5.322568e+06  5.322568e+06   \n",
       "mean   5.623159e+02  5.113192e+02  5.358393e+02  5.238233e+02  1.694702e+06   \n",
       "min    0.000000e+00  0.000000e+00  0.000000e+00  0.000000e+00 -2.125784e+09   \n",
       "25%    9.110000e+00  8.620000e+00  8.860000e+00  8.320000e+00  4.277800e+04   \n",
       "50%    2.255000e+01  2.164000e+01  2.208000e+01  2.053000e+01  2.607500e+05   \n",
       "75%    5.499000e+01  5.303000e+01  5.400000e+01  5.090000e+01  9.620678e+05   \n",
       "max    1.200000e+07  1.200000e+07  1.200000e+07  1.200000e+07  2.146534e+09   \n",
       "std    4.700781e+04  4.163399e+04  4.443310e+04  4.440703e+04  1.609591e+07   \n",
       "\n",
       "       shares_outstanding  \n",
       "count        4.942387e+06  \n",
       "mean         2.605400e+08  \n",
       "min          0.000000e+00  \n",
       "25%          1.893059e+07  \n",
       "50%          4.901730e+07  \n",
       "75%          1.283296e+08  \n",
       "max          1.121052e+12  \n",
       "std          5.484785e+09  "
      ]
     },
     "execution_count": 59,
     "metadata": {},
     "output_type": "execute_result"
    }
   ],
   "source": [
    "shares.describe()"
   ]
  },
  {
   "cell_type": "markdown",
   "id": "8ba21a2b-bb2e-4e15-99c7-95f7f548711e",
   "metadata": {},
   "source": [
    "A dictionary variable will be used in the `read_csv()` call to change datatype when I bring in the clean dataset and I will add an option on the `read_csv` function to change the Date column to the correct datetype when I bring in the data."
   ]
  },
  {
   "cell_type": "markdown",
   "id": "8143315c-29bc-455a-8d51-ccedd875654f",
   "metadata": {},
   "source": [
    "## Filter Data\n",
    "Check data by running queries"
   ]
  },
  {
   "cell_type": "code",
   "execution_count": 60,
   "id": "b74c3c41-d69d-4372-b7ce-0c19817018ae",
   "metadata": {},
   "outputs": [
    {
     "data": {
      "text/html": [
       "<div>\n",
       "<style scoped>\n",
       "    .dataframe tbody tr th:only-of-type {\n",
       "        vertical-align: middle;\n",
       "    }\n",
       "\n",
       "    .dataframe tbody tr th {\n",
       "        vertical-align: top;\n",
       "    }\n",
       "\n",
       "    .dataframe thead th {\n",
       "        text-align: right;\n",
       "    }\n",
       "</style>\n",
       "<table border=\"1\" class=\"dataframe\">\n",
       "  <thead>\n",
       "    <tr style=\"text-align: right;\">\n",
       "      <th></th>\n",
       "      <th>ticker</th>\n",
       "      <th>simfinid</th>\n",
       "      <th>date</th>\n",
       "      <th>open</th>\n",
       "      <th>high</th>\n",
       "      <th>low</th>\n",
       "      <th>close</th>\n",
       "      <th>adj_close</th>\n",
       "      <th>volume</th>\n",
       "      <th>shares_outstanding</th>\n",
       "    </tr>\n",
       "  </thead>\n",
       "  <tbody>\n",
       "    <tr>\n",
       "      <th>2053021</th>\n",
       "      <td>GME</td>\n",
       "      <td>44534</td>\n",
       "      <td>2018-08-07</td>\n",
       "      <td>3.730000</td>\n",
       "      <td>3.810000</td>\n",
       "      <td>3.710000</td>\n",
       "      <td>3.780000</td>\n",
       "      <td>3.470000</td>\n",
       "      <td>7813724</td>\n",
       "      <td>407600000.0</td>\n",
       "    </tr>\n",
       "    <tr>\n",
       "      <th>2053022</th>\n",
       "      <td>GME</td>\n",
       "      <td>44534</td>\n",
       "      <td>2018-08-08</td>\n",
       "      <td>3.780000</td>\n",
       "      <td>3.830000</td>\n",
       "      <td>3.750000</td>\n",
       "      <td>3.810000</td>\n",
       "      <td>3.500000</td>\n",
       "      <td>8715468</td>\n",
       "      <td>407600000.0</td>\n",
       "    </tr>\n",
       "    <tr>\n",
       "      <th>2053023</th>\n",
       "      <td>GME</td>\n",
       "      <td>44534</td>\n",
       "      <td>2018-08-09</td>\n",
       "      <td>3.810000</td>\n",
       "      <td>3.870000</td>\n",
       "      <td>3.750000</td>\n",
       "      <td>3.800000</td>\n",
       "      <td>3.490000</td>\n",
       "      <td>9370924</td>\n",
       "      <td>407600000.0</td>\n",
       "    </tr>\n",
       "    <tr>\n",
       "      <th>2053024</th>\n",
       "      <td>GME</td>\n",
       "      <td>44534</td>\n",
       "      <td>2018-08-10</td>\n",
       "      <td>3.790000</td>\n",
       "      <td>3.900000</td>\n",
       "      <td>3.770000</td>\n",
       "      <td>3.830000</td>\n",
       "      <td>3.520000</td>\n",
       "      <td>9666664</td>\n",
       "      <td>407600000.0</td>\n",
       "    </tr>\n",
       "    <tr>\n",
       "      <th>2053025</th>\n",
       "      <td>GME</td>\n",
       "      <td>44534</td>\n",
       "      <td>2018-08-13</td>\n",
       "      <td>3.840000</td>\n",
       "      <td>3.850000</td>\n",
       "      <td>3.780000</td>\n",
       "      <td>3.800000</td>\n",
       "      <td>3.490000</td>\n",
       "      <td>8403788</td>\n",
       "      <td>407600000.0</td>\n",
       "    </tr>\n",
       "    <tr>\n",
       "      <th>...</th>\n",
       "      <td>...</td>\n",
       "      <td>...</td>\n",
       "      <td>...</td>\n",
       "      <td>...</td>\n",
       "      <td>...</td>\n",
       "      <td>...</td>\n",
       "      <td>...</td>\n",
       "      <td>...</td>\n",
       "      <td>...</td>\n",
       "      <td>...</td>\n",
       "    </tr>\n",
       "    <tr>\n",
       "      <th>2054255</th>\n",
       "      <td>GME</td>\n",
       "      <td>44534</td>\n",
       "      <td>2023-07-05</td>\n",
       "      <td>24.639999</td>\n",
       "      <td>24.850000</td>\n",
       "      <td>23.790001</td>\n",
       "      <td>23.900000</td>\n",
       "      <td>23.900000</td>\n",
       "      <td>2268244</td>\n",
       "      <td>304500000.0</td>\n",
       "    </tr>\n",
       "    <tr>\n",
       "      <th>2054256</th>\n",
       "      <td>GME</td>\n",
       "      <td>44534</td>\n",
       "      <td>2023-07-06</td>\n",
       "      <td>23.520000</td>\n",
       "      <td>23.570000</td>\n",
       "      <td>22.820000</td>\n",
       "      <td>22.830000</td>\n",
       "      <td>22.830000</td>\n",
       "      <td>2390303</td>\n",
       "      <td>304500000.0</td>\n",
       "    </tr>\n",
       "    <tr>\n",
       "      <th>2054257</th>\n",
       "      <td>GME</td>\n",
       "      <td>44534</td>\n",
       "      <td>2023-07-07</td>\n",
       "      <td>22.969999</td>\n",
       "      <td>23.530001</td>\n",
       "      <td>22.670000</td>\n",
       "      <td>22.709999</td>\n",
       "      <td>22.709999</td>\n",
       "      <td>2447203</td>\n",
       "      <td>304500000.0</td>\n",
       "    </tr>\n",
       "    <tr>\n",
       "      <th>2054258</th>\n",
       "      <td>GME</td>\n",
       "      <td>44534</td>\n",
       "      <td>2023-07-10</td>\n",
       "      <td>22.610001</td>\n",
       "      <td>23.559999</td>\n",
       "      <td>22.000000</td>\n",
       "      <td>23.540001</td>\n",
       "      <td>23.540001</td>\n",
       "      <td>3318214</td>\n",
       "      <td>304500000.0</td>\n",
       "    </tr>\n",
       "    <tr>\n",
       "      <th>2054259</th>\n",
       "      <td>GME</td>\n",
       "      <td>44534</td>\n",
       "      <td>2023-07-11</td>\n",
       "      <td>23.200001</td>\n",
       "      <td>24.440001</td>\n",
       "      <td>23.200001</td>\n",
       "      <td>23.910000</td>\n",
       "      <td>23.910000</td>\n",
       "      <td>3063534</td>\n",
       "      <td>304500000.0</td>\n",
       "    </tr>\n",
       "  </tbody>\n",
       "</table>\n",
       "<p>1239 rows × 10 columns</p>\n",
       "</div>"
      ],
      "text/plain": [
       "        ticker  simfinid       date       open       high        low  \\\n",
       "2053021    GME     44534 2018-08-07   3.730000   3.810000   3.710000   \n",
       "2053022    GME     44534 2018-08-08   3.780000   3.830000   3.750000   \n",
       "2053023    GME     44534 2018-08-09   3.810000   3.870000   3.750000   \n",
       "2053024    GME     44534 2018-08-10   3.790000   3.900000   3.770000   \n",
       "2053025    GME     44534 2018-08-13   3.840000   3.850000   3.780000   \n",
       "...        ...       ...        ...        ...        ...        ...   \n",
       "2054255    GME     44534 2023-07-05  24.639999  24.850000  23.790001   \n",
       "2054256    GME     44534 2023-07-06  23.520000  23.570000  22.820000   \n",
       "2054257    GME     44534 2023-07-07  22.969999  23.530001  22.670000   \n",
       "2054258    GME     44534 2023-07-10  22.610001  23.559999  22.000000   \n",
       "2054259    GME     44534 2023-07-11  23.200001  24.440001  23.200001   \n",
       "\n",
       "             close  adj_close   volume  shares_outstanding  \n",
       "2053021   3.780000   3.470000  7813724         407600000.0  \n",
       "2053022   3.810000   3.500000  8715468         407600000.0  \n",
       "2053023   3.800000   3.490000  9370924         407600000.0  \n",
       "2053024   3.830000   3.520000  9666664         407600000.0  \n",
       "2053025   3.800000   3.490000  8403788         407600000.0  \n",
       "...            ...        ...      ...                 ...  \n",
       "2054255  23.900000  23.900000  2268244         304500000.0  \n",
       "2054256  22.830000  22.830000  2390303         304500000.0  \n",
       "2054257  22.709999  22.709999  2447203         304500000.0  \n",
       "2054258  23.540001  23.540001  3318214         304500000.0  \n",
       "2054259  23.910000  23.910000  3063534         304500000.0  \n",
       "\n",
       "[1239 rows x 10 columns]"
      ]
     },
     "execution_count": 60,
     "metadata": {},
     "output_type": "execute_result"
    }
   ],
   "source": [
    "# Pull data by Ticker\n",
    "gme_stock_data = shares[shares['ticker'] == 'GME']\n",
    "gme_stock_data"
   ]
  },
  {
   "cell_type": "code",
   "execution_count": 61,
   "id": "851ebce0-07d8-44fb-b485-f740ecfd8467",
   "metadata": {},
   "outputs": [
    {
     "data": {
      "text/html": [
       "<div>\n",
       "<style scoped>\n",
       "    .dataframe tbody tr th:only-of-type {\n",
       "        vertical-align: middle;\n",
       "    }\n",
       "\n",
       "    .dataframe tbody tr th {\n",
       "        vertical-align: top;\n",
       "    }\n",
       "\n",
       "    .dataframe thead th {\n",
       "        text-align: right;\n",
       "    }\n",
       "</style>\n",
       "<table border=\"1\" class=\"dataframe\">\n",
       "  <thead>\n",
       "    <tr style=\"text-align: right;\">\n",
       "      <th></th>\n",
       "      <th>index</th>\n",
       "      <th>ticker</th>\n",
       "      <th>simfinid</th>\n",
       "      <th>date</th>\n",
       "      <th>open</th>\n",
       "      <th>high</th>\n",
       "      <th>low</th>\n",
       "      <th>close</th>\n",
       "      <th>adj_close</th>\n",
       "      <th>volume</th>\n",
       "      <th>shares_outstanding</th>\n",
       "    </tr>\n",
       "  </thead>\n",
       "  <tbody>\n",
       "    <tr>\n",
       "      <th>0</th>\n",
       "      <td>858</td>\n",
       "      <td>A</td>\n",
       "      <td>45846</td>\n",
       "      <td>2022-01-03</td>\n",
       "      <td>159.000000</td>\n",
       "      <td>159.440002</td>\n",
       "      <td>153.929993</td>\n",
       "      <td>156.479996</td>\n",
       "      <td>153.809998</td>\n",
       "      <td>1606323</td>\n",
       "      <td>302722656.0</td>\n",
       "    </tr>\n",
       "    <tr>\n",
       "      <th>1</th>\n",
       "      <td>859</td>\n",
       "      <td>A</td>\n",
       "      <td>45846</td>\n",
       "      <td>2022-01-04</td>\n",
       "      <td>155.490005</td>\n",
       "      <td>155.630005</td>\n",
       "      <td>149.699997</td>\n",
       "      <td>151.190002</td>\n",
       "      <td>148.610001</td>\n",
       "      <td>2233958</td>\n",
       "      <td>302722656.0</td>\n",
       "    </tr>\n",
       "    <tr>\n",
       "      <th>2</th>\n",
       "      <td>860</td>\n",
       "      <td>A</td>\n",
       "      <td>45846</td>\n",
       "      <td>2022-01-05</td>\n",
       "      <td>150.830002</td>\n",
       "      <td>153.100006</td>\n",
       "      <td>148.529999</td>\n",
       "      <td>148.600006</td>\n",
       "      <td>146.070007</td>\n",
       "      <td>2370529</td>\n",
       "      <td>302722656.0</td>\n",
       "    </tr>\n",
       "    <tr>\n",
       "      <th>3</th>\n",
       "      <td>861</td>\n",
       "      <td>A</td>\n",
       "      <td>45846</td>\n",
       "      <td>2022-01-06</td>\n",
       "      <td>148.850006</td>\n",
       "      <td>149.960007</td>\n",
       "      <td>145.580002</td>\n",
       "      <td>149.119995</td>\n",
       "      <td>146.580002</td>\n",
       "      <td>2298277</td>\n",
       "      <td>302722656.0</td>\n",
       "    </tr>\n",
       "    <tr>\n",
       "      <th>4</th>\n",
       "      <td>862</td>\n",
       "      <td>A</td>\n",
       "      <td>45846</td>\n",
       "      <td>2022-01-07</td>\n",
       "      <td>149.119995</td>\n",
       "      <td>149.729996</td>\n",
       "      <td>145.089996</td>\n",
       "      <td>145.149994</td>\n",
       "      <td>142.679993</td>\n",
       "      <td>2058658</td>\n",
       "      <td>302722656.0</td>\n",
       "    </tr>\n",
       "    <tr>\n",
       "      <th>...</th>\n",
       "      <td>...</td>\n",
       "      <td>...</td>\n",
       "      <td>...</td>\n",
       "      <td>...</td>\n",
       "      <td>...</td>\n",
       "      <td>...</td>\n",
       "      <td>...</td>\n",
       "      <td>...</td>\n",
       "      <td>...</td>\n",
       "      <td>...</td>\n",
       "      <td>...</td>\n",
       "    </tr>\n",
       "    <tr>\n",
       "      <th>1171069</th>\n",
       "      <td>5322433</td>\n",
       "      <td>ZYXI</td>\n",
       "      <td>171401</td>\n",
       "      <td>2022-12-23</td>\n",
       "      <td>13.630000</td>\n",
       "      <td>14.070000</td>\n",
       "      <td>13.630000</td>\n",
       "      <td>13.810000</td>\n",
       "      <td>13.810000</td>\n",
       "      <td>180392</td>\n",
       "      <td>38046000.0</td>\n",
       "    </tr>\n",
       "    <tr>\n",
       "      <th>1171070</th>\n",
       "      <td>5322434</td>\n",
       "      <td>ZYXI</td>\n",
       "      <td>171401</td>\n",
       "      <td>2022-12-27</td>\n",
       "      <td>14.020000</td>\n",
       "      <td>14.090000</td>\n",
       "      <td>13.670000</td>\n",
       "      <td>13.760000</td>\n",
       "      <td>13.760000</td>\n",
       "      <td>143701</td>\n",
       "      <td>38046000.0</td>\n",
       "    </tr>\n",
       "    <tr>\n",
       "      <th>1171071</th>\n",
       "      <td>5322435</td>\n",
       "      <td>ZYXI</td>\n",
       "      <td>171401</td>\n",
       "      <td>2022-12-28</td>\n",
       "      <td>13.690000</td>\n",
       "      <td>13.900000</td>\n",
       "      <td>13.630000</td>\n",
       "      <td>13.880000</td>\n",
       "      <td>13.880000</td>\n",
       "      <td>137809</td>\n",
       "      <td>38046000.0</td>\n",
       "    </tr>\n",
       "    <tr>\n",
       "      <th>1171072</th>\n",
       "      <td>5322436</td>\n",
       "      <td>ZYXI</td>\n",
       "      <td>171401</td>\n",
       "      <td>2022-12-29</td>\n",
       "      <td>13.950000</td>\n",
       "      <td>14.200000</td>\n",
       "      <td>13.810000</td>\n",
       "      <td>13.870000</td>\n",
       "      <td>13.870000</td>\n",
       "      <td>159746</td>\n",
       "      <td>38046000.0</td>\n",
       "    </tr>\n",
       "    <tr>\n",
       "      <th>1171073</th>\n",
       "      <td>5322437</td>\n",
       "      <td>ZYXI</td>\n",
       "      <td>171401</td>\n",
       "      <td>2022-12-30</td>\n",
       "      <td>13.800000</td>\n",
       "      <td>13.980000</td>\n",
       "      <td>13.710000</td>\n",
       "      <td>13.910000</td>\n",
       "      <td>13.910000</td>\n",
       "      <td>235576</td>\n",
       "      <td>38046000.0</td>\n",
       "    </tr>\n",
       "  </tbody>\n",
       "</table>\n",
       "<p>1171074 rows × 11 columns</p>\n",
       "</div>"
      ],
      "text/plain": [
       "           index ticker  simfinid       date        open        high  \\\n",
       "0            858      A     45846 2022-01-03  159.000000  159.440002   \n",
       "1            859      A     45846 2022-01-04  155.490005  155.630005   \n",
       "2            860      A     45846 2022-01-05  150.830002  153.100006   \n",
       "3            861      A     45846 2022-01-06  148.850006  149.960007   \n",
       "4            862      A     45846 2022-01-07  149.119995  149.729996   \n",
       "...          ...    ...       ...        ...         ...         ...   \n",
       "1171069  5322433   ZYXI    171401 2022-12-23   13.630000   14.070000   \n",
       "1171070  5322434   ZYXI    171401 2022-12-27   14.020000   14.090000   \n",
       "1171071  5322435   ZYXI    171401 2022-12-28   13.690000   13.900000   \n",
       "1171072  5322436   ZYXI    171401 2022-12-29   13.950000   14.200000   \n",
       "1171073  5322437   ZYXI    171401 2022-12-30   13.800000   13.980000   \n",
       "\n",
       "                low       close   adj_close   volume  shares_outstanding  \n",
       "0        153.929993  156.479996  153.809998  1606323         302722656.0  \n",
       "1        149.699997  151.190002  148.610001  2233958         302722656.0  \n",
       "2        148.529999  148.600006  146.070007  2370529         302722656.0  \n",
       "3        145.580002  149.119995  146.580002  2298277         302722656.0  \n",
       "4        145.089996  145.149994  142.679993  2058658         302722656.0  \n",
       "...             ...         ...         ...      ...                 ...  \n",
       "1171069   13.630000   13.810000   13.810000   180392          38046000.0  \n",
       "1171070   13.670000   13.760000   13.760000   143701          38046000.0  \n",
       "1171071   13.630000   13.880000   13.880000   137809          38046000.0  \n",
       "1171072   13.810000   13.870000   13.870000   159746          38046000.0  \n",
       "1171073   13.710000   13.910000   13.910000   235576          38046000.0  \n",
       "\n",
       "[1171074 rows x 11 columns]"
      ]
     },
     "execution_count": 61,
     "metadata": {},
     "output_type": "execute_result"
    }
   ],
   "source": [
    "# see if the data type change on date was successful\n",
    "\n",
    "shares['date'] = pd.to_datetime(shares['date'])\n",
    "\n",
    "# Set a new dataframe with the filtered data for year 2022, reset index\n",
    "stock_data_2022 = shares[shares['date'].dt.year == 2022].reset_index()\n",
    "\n",
    "stock_data_2022"
   ]
  },
  {
   "cell_type": "markdown",
   "id": "04bfda7f-426c-4b42-aa69-2ce6eb156bae",
   "metadata": {},
   "source": [
    "Determine if my new dataframe contains only data from the year 2022. "
   ]
  },
  {
   "cell_type": "code",
   "execution_count": 62,
   "id": "9bb4f25d-8a75-4fdb-bfc5-49f608814e5f",
   "metadata": {},
   "outputs": [
    {
     "data": {
      "text/plain": [
       "min   2022-01-03\n",
       "max   2022-12-30\n",
       "Name: date, dtype: datetime64[ns]"
      ]
     },
     "execution_count": 62,
     "metadata": {},
     "output_type": "execute_result"
    }
   ],
   "source": [
    "stock_data_2022['date'].agg(['min', 'max'])"
   ]
  },
  {
   "cell_type": "markdown",
   "id": "a067ebc3-2f32-4de3-96a2-7103bacfcd4b",
   "metadata": {},
   "source": [
    "I have successfully pull data from only 2022."
   ]
  },
  {
   "cell_type": "code",
   "execution_count": 63,
   "id": "fb2aa38e-e4eb-463f-98e5-dbfd3dfc2157",
   "metadata": {},
   "outputs": [
    {
     "name": "stdout",
     "output_type": "stream",
     "text": [
      "<class 'pandas.core.frame.DataFrame'>\n",
      "RangeIndex: 1171074 entries, 0 to 1171073\n",
      "Data columns (total 11 columns):\n",
      " #   Column              Non-Null Count    Dtype         \n",
      "---  ------              --------------    -----         \n",
      " 0   index               1171074 non-null  int64         \n",
      " 1   ticker              1171074 non-null  object        \n",
      " 2   simfinid            1171074 non-null  int32         \n",
      " 3   date                1171074 non-null  datetime64[ns]\n",
      " 4   open                1171074 non-null  float32       \n",
      " 5   high                1171074 non-null  float32       \n",
      " 6   low                 1171074 non-null  float32       \n",
      " 7   close               1171074 non-null  float32       \n",
      " 8   adj_close           1171074 non-null  float32       \n",
      " 9   volume              1171074 non-null  int32         \n",
      " 10  shares_outstanding  1127863 non-null  float32       \n",
      "dtypes: datetime64[ns](1), float32(6), int32(2), int64(1), object(1)\n",
      "memory usage: 62.5+ MB\n"
     ]
    }
   ],
   "source": [
    "stock_data_2022.info()"
   ]
  },
  {
   "cell_type": "markdown",
   "id": "c3ceff3b-d88f-441b-a3c0-abf44b25ddab",
   "metadata": {},
   "source": [
    "Look at the first 10 records."
   ]
  },
  {
   "cell_type": "code",
   "execution_count": 64,
   "id": "7a98ed69-a4dd-43f1-b988-b90ff415bf4a",
   "metadata": {},
   "outputs": [
    {
     "data": {
      "text/html": [
       "<div>\n",
       "<style scoped>\n",
       "    .dataframe tbody tr th:only-of-type {\n",
       "        vertical-align: middle;\n",
       "    }\n",
       "\n",
       "    .dataframe tbody tr th {\n",
       "        vertical-align: top;\n",
       "    }\n",
       "\n",
       "    .dataframe thead th {\n",
       "        text-align: right;\n",
       "    }\n",
       "</style>\n",
       "<table border=\"1\" class=\"dataframe\">\n",
       "  <thead>\n",
       "    <tr style=\"text-align: right;\">\n",
       "      <th></th>\n",
       "      <th>index</th>\n",
       "      <th>ticker</th>\n",
       "      <th>simfinid</th>\n",
       "      <th>date</th>\n",
       "      <th>open</th>\n",
       "      <th>high</th>\n",
       "      <th>low</th>\n",
       "      <th>close</th>\n",
       "      <th>adj_close</th>\n",
       "      <th>volume</th>\n",
       "      <th>shares_outstanding</th>\n",
       "    </tr>\n",
       "  </thead>\n",
       "  <tbody>\n",
       "    <tr>\n",
       "      <th>0</th>\n",
       "      <td>858</td>\n",
       "      <td>A</td>\n",
       "      <td>45846</td>\n",
       "      <td>2022-01-03</td>\n",
       "      <td>159.000000</td>\n",
       "      <td>159.440002</td>\n",
       "      <td>153.929993</td>\n",
       "      <td>156.479996</td>\n",
       "      <td>153.809998</td>\n",
       "      <td>1606323</td>\n",
       "      <td>302722656.0</td>\n",
       "    </tr>\n",
       "    <tr>\n",
       "      <th>1</th>\n",
       "      <td>859</td>\n",
       "      <td>A</td>\n",
       "      <td>45846</td>\n",
       "      <td>2022-01-04</td>\n",
       "      <td>155.490005</td>\n",
       "      <td>155.630005</td>\n",
       "      <td>149.699997</td>\n",
       "      <td>151.190002</td>\n",
       "      <td>148.610001</td>\n",
       "      <td>2233958</td>\n",
       "      <td>302722656.0</td>\n",
       "    </tr>\n",
       "    <tr>\n",
       "      <th>2</th>\n",
       "      <td>860</td>\n",
       "      <td>A</td>\n",
       "      <td>45846</td>\n",
       "      <td>2022-01-05</td>\n",
       "      <td>150.830002</td>\n",
       "      <td>153.100006</td>\n",
       "      <td>148.529999</td>\n",
       "      <td>148.600006</td>\n",
       "      <td>146.070007</td>\n",
       "      <td>2370529</td>\n",
       "      <td>302722656.0</td>\n",
       "    </tr>\n",
       "    <tr>\n",
       "      <th>3</th>\n",
       "      <td>861</td>\n",
       "      <td>A</td>\n",
       "      <td>45846</td>\n",
       "      <td>2022-01-06</td>\n",
       "      <td>148.850006</td>\n",
       "      <td>149.960007</td>\n",
       "      <td>145.580002</td>\n",
       "      <td>149.119995</td>\n",
       "      <td>146.580002</td>\n",
       "      <td>2298277</td>\n",
       "      <td>302722656.0</td>\n",
       "    </tr>\n",
       "    <tr>\n",
       "      <th>4</th>\n",
       "      <td>862</td>\n",
       "      <td>A</td>\n",
       "      <td>45846</td>\n",
       "      <td>2022-01-07</td>\n",
       "      <td>149.119995</td>\n",
       "      <td>149.729996</td>\n",
       "      <td>145.089996</td>\n",
       "      <td>145.149994</td>\n",
       "      <td>142.679993</td>\n",
       "      <td>2058658</td>\n",
       "      <td>302722656.0</td>\n",
       "    </tr>\n",
       "    <tr>\n",
       "      <th>5</th>\n",
       "      <td>863</td>\n",
       "      <td>A</td>\n",
       "      <td>45846</td>\n",
       "      <td>2022-01-10</td>\n",
       "      <td>143.289993</td>\n",
       "      <td>145.309998</td>\n",
       "      <td>140.860001</td>\n",
       "      <td>145.160004</td>\n",
       "      <td>142.690002</td>\n",
       "      <td>2548145</td>\n",
       "      <td>302722656.0</td>\n",
       "    </tr>\n",
       "    <tr>\n",
       "      <th>6</th>\n",
       "      <td>864</td>\n",
       "      <td>A</td>\n",
       "      <td>45846</td>\n",
       "      <td>2022-01-11</td>\n",
       "      <td>145.000000</td>\n",
       "      <td>146.940002</td>\n",
       "      <td>143.809998</td>\n",
       "      <td>146.639999</td>\n",
       "      <td>144.139999</td>\n",
       "      <td>2028671</td>\n",
       "      <td>302722656.0</td>\n",
       "    </tr>\n",
       "    <tr>\n",
       "      <th>7</th>\n",
       "      <td>865</td>\n",
       "      <td>A</td>\n",
       "      <td>45846</td>\n",
       "      <td>2022-01-12</td>\n",
       "      <td>147.800003</td>\n",
       "      <td>150.389999</td>\n",
       "      <td>147.550003</td>\n",
       "      <td>149.509995</td>\n",
       "      <td>146.960007</td>\n",
       "      <td>2250847</td>\n",
       "      <td>302722656.0</td>\n",
       "    </tr>\n",
       "    <tr>\n",
       "      <th>8</th>\n",
       "      <td>866</td>\n",
       "      <td>A</td>\n",
       "      <td>45846</td>\n",
       "      <td>2022-01-13</td>\n",
       "      <td>149.460007</td>\n",
       "      <td>149.539993</td>\n",
       "      <td>144.850006</td>\n",
       "      <td>145.169998</td>\n",
       "      <td>142.690002</td>\n",
       "      <td>1741764</td>\n",
       "      <td>302722656.0</td>\n",
       "    </tr>\n",
       "    <tr>\n",
       "      <th>9</th>\n",
       "      <td>867</td>\n",
       "      <td>A</td>\n",
       "      <td>45846</td>\n",
       "      <td>2022-01-14</td>\n",
       "      <td>144.039993</td>\n",
       "      <td>145.149994</td>\n",
       "      <td>142.360001</td>\n",
       "      <td>144.679993</td>\n",
       "      <td>142.210007</td>\n",
       "      <td>2225442</td>\n",
       "      <td>302722656.0</td>\n",
       "    </tr>\n",
       "  </tbody>\n",
       "</table>\n",
       "</div>"
      ],
      "text/plain": [
       "   index ticker  simfinid       date        open        high         low  \\\n",
       "0    858      A     45846 2022-01-03  159.000000  159.440002  153.929993   \n",
       "1    859      A     45846 2022-01-04  155.490005  155.630005  149.699997   \n",
       "2    860      A     45846 2022-01-05  150.830002  153.100006  148.529999   \n",
       "3    861      A     45846 2022-01-06  148.850006  149.960007  145.580002   \n",
       "4    862      A     45846 2022-01-07  149.119995  149.729996  145.089996   \n",
       "5    863      A     45846 2022-01-10  143.289993  145.309998  140.860001   \n",
       "6    864      A     45846 2022-01-11  145.000000  146.940002  143.809998   \n",
       "7    865      A     45846 2022-01-12  147.800003  150.389999  147.550003   \n",
       "8    866      A     45846 2022-01-13  149.460007  149.539993  144.850006   \n",
       "9    867      A     45846 2022-01-14  144.039993  145.149994  142.360001   \n",
       "\n",
       "        close   adj_close   volume  shares_outstanding  \n",
       "0  156.479996  153.809998  1606323         302722656.0  \n",
       "1  151.190002  148.610001  2233958         302722656.0  \n",
       "2  148.600006  146.070007  2370529         302722656.0  \n",
       "3  149.119995  146.580002  2298277         302722656.0  \n",
       "4  145.149994  142.679993  2058658         302722656.0  \n",
       "5  145.160004  142.690002  2548145         302722656.0  \n",
       "6  146.639999  144.139999  2028671         302722656.0  \n",
       "7  149.509995  146.960007  2250847         302722656.0  \n",
       "8  145.169998  142.690002  1741764         302722656.0  \n",
       "9  144.679993  142.210007  2225442         302722656.0  "
      ]
     },
     "execution_count": 64,
     "metadata": {},
     "output_type": "execute_result"
    }
   ],
   "source": [
    "stock_data_2022.head(10)"
   ]
  },
  {
   "cell_type": "markdown",
   "id": "ddce3f05",
   "metadata": {},
   "source": [
    "I will drop the simfinid column, as I do not need it. I will be using the ticker as the id for my analysis. "
   ]
  },
  {
   "cell_type": "code",
   "execution_count": 65,
   "id": "415913ca",
   "metadata": {},
   "outputs": [],
   "source": [
    "stock_data_2022 = stock_data_2022.drop(columns='simfinid', axis=0)"
   ]
  },
  {
   "cell_type": "code",
   "execution_count": 66,
   "id": "fde52275",
   "metadata": {},
   "outputs": [
    {
     "name": "stdout",
     "output_type": "stream",
     "text": [
      "<class 'pandas.core.frame.DataFrame'>\n",
      "RangeIndex: 1171074 entries, 0 to 1171073\n",
      "Data columns (total 10 columns):\n",
      " #   Column              Non-Null Count    Dtype         \n",
      "---  ------              --------------    -----         \n",
      " 0   index               1171074 non-null  int64         \n",
      " 1   ticker              1171074 non-null  object        \n",
      " 2   date                1171074 non-null  datetime64[ns]\n",
      " 3   open                1171074 non-null  float32       \n",
      " 4   high                1171074 non-null  float32       \n",
      " 5   low                 1171074 non-null  float32       \n",
      " 6   close               1171074 non-null  float32       \n",
      " 7   adj_close           1171074 non-null  float32       \n",
      " 8   volume              1171074 non-null  int32         \n",
      " 9   shares_outstanding  1127863 non-null  float32       \n",
      "dtypes: datetime64[ns](1), float32(6), int32(1), int64(1), object(1)\n",
      "memory usage: 58.1+ MB\n"
     ]
    }
   ],
   "source": [
    "stock_data_2022.info()"
   ]
  },
  {
   "cell_type": "markdown",
   "id": "1145f8bc-593d-4a9c-b6fb-ba40b4935a8b",
   "metadata": {},
   "source": [
    "Change the Date column back to an Object type, as it uses less memory."
   ]
  },
  {
   "cell_type": "code",
   "execution_count": 67,
   "id": "38c56e9e-8ac5-4d2f-92a0-153e5af86a10",
   "metadata": {},
   "outputs": [],
   "source": [
    "from datetime import datetime\n",
    "def convert_datetime(dt):\n",
    "    return datetime.strftime(dt, '%Y-%m-%d') # Change it back to the original format it came in\n",
    "\n",
    "stock_data_2022['date']= stock_data_2022['date'].apply(convert_datetime)"
   ]
  },
  {
   "cell_type": "code",
   "execution_count": 68,
   "id": "6817c8c7-57f4-48cd-a493-d4fba1716ac6",
   "metadata": {},
   "outputs": [
    {
     "name": "stdout",
     "output_type": "stream",
     "text": [
      "<class 'pandas.core.frame.DataFrame'>\n",
      "RangeIndex: 1171074 entries, 0 to 1171073\n",
      "Data columns (total 10 columns):\n",
      " #   Column              Non-Null Count    Dtype  \n",
      "---  ------              --------------    -----  \n",
      " 0   index               1171074 non-null  int64  \n",
      " 1   ticker              1171074 non-null  object \n",
      " 2   date                1171074 non-null  object \n",
      " 3   open                1171074 non-null  float32\n",
      " 4   high                1171074 non-null  float32\n",
      " 5   low                 1171074 non-null  float32\n",
      " 6   close               1171074 non-null  float32\n",
      " 7   adj_close           1171074 non-null  float32\n",
      " 8   volume              1171074 non-null  int32  \n",
      " 9   shares_outstanding  1127863 non-null  float32\n",
      "dtypes: float32(6), int32(1), int64(1), object(2)\n",
      "memory usage: 58.1+ MB\n"
     ]
    }
   ],
   "source": [
    "stock_data_2022.info()"
   ]
  },
  {
   "cell_type": "markdown",
   "id": "17ec36a5-184e-43b3-99f3-f7836d9acf44",
   "metadata": {},
   "source": [
    "## Create new CSV file\n",
    "\n",
    "The code below will create a new CSV using my new dataframe, `stock_data_2022`. "
   ]
  },
  {
   "cell_type": "code",
   "execution_count": 69,
   "id": "3925246d-feb2-4336-8d17-534108c2092c",
   "metadata": {},
   "outputs": [],
   "source": [
    "# Push the new dataframe and convert it to a CSV\n",
    "stock_data_2022.to_csv('US_Share_Prices_2022.csv', index=False)"
   ]
  },
  {
   "cell_type": "markdown",
   "id": "123dfee4",
   "metadata": {},
   "source": [
    "## My Notes "
   ]
  },
  {
   "cell_type": "markdown",
   "id": "75010977-8f06-427c-a614-9602a2a08870",
   "metadata": {},
   "source": [
    "Import and inspect new file to make sure that it contains the data that I need."
   ]
  },
  {
   "cell_type": "code",
   "execution_count": null,
   "id": "713984ad-5b97-45f9-a741-d16340f8d307",
   "metadata": {},
   "outputs": [],
   "source": [
    "# Define the required columns for the data\n",
    "required_cols = ['Ticker', 'Date', 'Open', 'High', 'Low', 'Close', 'Volume', 'Shares Outstanding']"
   ]
  },
  {
   "cell_type": "markdown",
   "id": "8e47f29e-e3e0-4729-9453-ae6dabf38200",
   "metadata": {},
   "source": [
    "Define the data types dictionary for the columns\n",
    "```\n",
    "dt_setup = {\n",
    "    'Ticker':'category',\n",
    "    'Open':'float32',\n",
    "    'High':'float32',\n",
    "    'Low':'float32',\n",
    "    'Close':'float32'\n",
    "}\n",
    "```"
   ]
  },
  {
   "cell_type": "code",
   "execution_count": null,
   "id": "7e076ff3-7d6d-4fcb-8d66-764c0fe09dca",
   "metadata": {},
   "outputs": [],
   "source": [
    "%%time\n",
    "new_shares = pd.read_csv('US_Share_Prices_2022.csv', delimiter=',', usecols=required_cols, dtype=dt_setup, parse_dates=[2])\n",
    "len(shares)\n"
   ]
  },
  {
   "cell_type": "code",
   "execution_count": null,
   "id": "10b36df4-fdec-457c-9e94-4bb6650f10e0",
   "metadata": {},
   "outputs": [],
   "source": [
    "new_shares.info()"
   ]
  },
  {
   "cell_type": "markdown",
   "id": "ca113dff-e5fa-4ee2-bf23-8c630820c195",
   "metadata": {},
   "source": [
    "The new dataframe with the filtered data has been pulled in correctly."
   ]
  },
  {
   "cell_type": "code",
   "execution_count": null,
   "id": "c270e2db-09a9-41a1-8eb2-84a214cc1ab1",
   "metadata": {},
   "outputs": [],
   "source": [
    "new_shares.head(10)"
   ]
  },
  {
   "cell_type": "code",
   "execution_count": null,
   "id": "0f8a38da-7df3-49c7-a5fb-8c4f2d643940",
   "metadata": {},
   "outputs": [],
   "source": [
    "new_shares.describe()"
   ]
  },
  {
   "cell_type": "markdown",
   "id": "670f933f-71d3-40dc-946a-60d60dd9c83d",
   "metadata": {},
   "source": [
    "Check the dates:"
   ]
  },
  {
   "cell_type": "code",
   "execution_count": null,
   "id": "2103d26f-8a57-4f0f-bbd9-4c194928754a",
   "metadata": {},
   "outputs": [],
   "source": [
    "stock_data_2022['Date'].agg(['min', 'max'])"
   ]
  },
  {
   "cell_type": "markdown",
   "id": "04984598-5df8-4529-b728-c421c11e4f06",
   "metadata": {},
   "source": [
    "### Future Code for bringing in a updated CSV from SimFin\n",
    "From the analysis of the existing data, I will use defined required columns and data types to create a new file to work from that will also pull only the filtered data for 2022."
   ]
  },
  {
   "cell_type": "code",
   "execution_count": null,
   "id": "e6a60d73-dad4-4cc3-9355-f15a8bd3a50b",
   "metadata": {},
   "outputs": [],
   "source": [
    "# Define the required columns for the data\n",
    "required_cols = ['Ticker', 'Date', 'Open', 'High', 'Low', 'Close', 'Volume', 'Shares Outstanding']"
   ]
  },
  {
   "cell_type": "code",
   "execution_count": null,
   "id": "b8d6f198-b7eb-4db5-925c-4d9a20a0e142",
   "metadata": {},
   "outputs": [],
   "source": [
    "# Define the data types for the columns\n",
    "dt_setup = {\n",
    "    'Ticker':'string',\n",
    "    'Open':'float32',\n",
    "    'High':'float32',\n",
    "    'Low':'float32',\n",
    "    'Close':'float32'\n",
    "}"
   ]
  },
  {
   "cell_type": "code",
   "execution_count": null,
   "id": "e2a461b8-9f91-45d3-a4d2-245c9a1bf612",
   "metadata": {},
   "outputs": [],
   "source": [
    "%%time\n",
    "# Use nrows option\n",
    "shares = pd.read_csv('us-shareprices-daily.csv', delimiter=';', nrows=1000, usecols=required_cols, dtype=dt_setup, date_parse(2))\n",
    "len(shares)\n"
   ]
  },
  {
   "cell_type": "code",
   "execution_count": null,
   "id": "555b341d-ac79-41a2-ba14-d095cd0c6de9",
   "metadata": {},
   "outputs": [],
   "source": [
    "# Fill na to zero the column, Shares Outstanding \n",
    "# shares = shares.fillna(0)"
   ]
  },
  {
   "cell_type": "markdown",
   "id": "42ae5d02-8eb6-44f4-8cb7-a5fc1e90270f",
   "metadata": {},
   "source": [
    "Code for converting dataframe to JSON and compressed JSON:"
   ]
  },
  {
   "cell_type": "code",
   "execution_count": null,
   "id": "70a2f935-ca9f-4131-98bd-b8e573688b2e",
   "metadata": {},
   "outputs": [],
   "source": [
    "# shares.to_json('US_Share_Prices_2022.json', orient='records', lines=True)"
   ]
  },
  {
   "cell_type": "code",
   "execution_count": null,
   "id": "613b9577-3209-4ab4-8dc7-54e9dfca86a6",
   "metadata": {},
   "outputs": [],
   "source": [
    "# shares.to_json('US_Share_Prices_2022.json.gz', orient='records', lines=True, compression='gzip')"
   ]
  },
  {
   "cell_type": "code",
   "execution_count": null,
   "id": "79defc3a-83ed-43bb-af0f-af7d63140069",
   "metadata": {},
   "outputs": [],
   "source": [
    "# List out dates\n",
    "shares['Date'].dt.date"
   ]
  },
  {
   "cell_type": "code",
   "execution_count": null,
   "id": "034b6be7-1737-49db-855d-78dd4337166a",
   "metadata": {},
   "outputs": [],
   "source": [
    "data_for_desired_year = shares[shares['Date'].dt.year == 2022]\n"
   ]
  },
  {
   "cell_type": "code",
   "execution_count": null,
   "id": "1e9fa09f-3be6-4122-8420-53f86946df48",
   "metadata": {},
   "outputs": [],
   "source": [
    "print(data_for_desired_year)"
   ]
  }
 ],
 "metadata": {
  "kernelspec": {
   "display_name": "Python 3 (ipykernel)",
   "language": "python",
   "name": "python3"
  },
  "language_info": {
   "codemirror_mode": {
    "name": "ipython",
    "version": 3
   },
   "file_extension": ".py",
   "mimetype": "text/x-python",
   "name": "python",
   "nbconvert_exporter": "python",
   "pygments_lexer": "ipython3",
   "version": "3.11.7"
  }
 },
 "nbformat": 4,
 "nbformat_minor": 5
}
